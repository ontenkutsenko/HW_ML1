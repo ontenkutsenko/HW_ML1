{
 "cells": [
  {
   "cell_type": "markdown",
   "metadata": {},
   "source": [
    "# Практическая работа №1"
   ]
  },
  {
   "cell_type": "code",
   "execution_count": 442,
   "metadata": {},
   "outputs": [],
   "source": [
    "import numpy as np\n",
    "import pandas as pd\n",
    "import matplotlib.pyplot as plt\n",
    "from sklearn.model_selection import train_test_split, cross_val_score, GridSearchCV\n",
    "\n",
    "from sklearn.linear_model import LinearRegression\n",
    "from sklearn.tree import DecisionTreeRegressor\n",
    "\n",
    "from sklearn.metrics import mean_squared_error, r2_score\n",
    "\n",
    "from sklearn.preprocessing import PolynomialFeatures\n",
    "from sklearn.pipeline import Pipeline"
   ]
  },
  {
   "cell_type": "markdown",
   "metadata": {},
   "source": [
    "### Загрузим данные для работы. "
   ]
  },
  {
   "cell_type": "code",
   "execution_count": 443,
   "metadata": {},
   "outputs": [
    {
     "data": {
      "text/html": [
       "<div>\n",
       "<style scoped>\n",
       "    .dataframe tbody tr th:only-of-type {\n",
       "        vertical-align: middle;\n",
       "    }\n",
       "\n",
       "    .dataframe tbody tr th {\n",
       "        vertical-align: top;\n",
       "    }\n",
       "\n",
       "    .dataframe thead th {\n",
       "        text-align: right;\n",
       "    }\n",
       "</style>\n",
       "<table border=\"1\" class=\"dataframe\">\n",
       "  <thead>\n",
       "    <tr style=\"text-align: right;\">\n",
       "      <th></th>\n",
       "      <th>Region Index</th>\n",
       "      <th>Subjects of Russia</th>\n",
       "      <th>Unemployment rate. %</th>\n",
       "      <th>Income per capita. RUB</th>\n",
       "      <th>Average salary. RUB per month</th>\n",
       "      <th>Spendings per capita. RUB</th>\n",
       "      <th>State housing. %</th>\n",
       "      <th>Higher Education. %</th>\n",
       "      <th>Number of doctors per 10000 citizens</th>\n",
       "      <th>GRP per capita. RUB</th>\n",
       "      <th>Investment in total capital</th>\n",
       "      <th>Consumer Price Index (CPI)</th>\n",
       "      <th>Average income / min. living wage</th>\n",
       "      <th>Average costs / min. living wage</th>\n",
       "      <th>Votes for United Russia. %</th>\n",
       "    </tr>\n",
       "  </thead>\n",
       "  <tbody>\n",
       "    <tr>\n",
       "      <th>0</th>\n",
       "      <td>1</td>\n",
       "      <td>Adygea</td>\n",
       "      <td>43505.0</td>\n",
       "      <td>12236</td>\n",
       "      <td>12787.4</td>\n",
       "      <td>8361</td>\n",
       "      <td>0.6</td>\n",
       "      <td>4.0</td>\n",
       "      <td>37.9</td>\n",
       "      <td>93548.3</td>\n",
       "      <td>25834</td>\n",
       "      <td>110.1</td>\n",
       "      <td>42036</td>\n",
       "      <td>17168.0</td>\n",
       "      <td>61.002</td>\n",
       "    </tr>\n",
       "    <tr>\n",
       "      <th>1</th>\n",
       "      <td>2</td>\n",
       "      <td>Altai</td>\n",
       "      <td>43685.0</td>\n",
       "      <td>10926</td>\n",
       "      <td>12050.7</td>\n",
       "      <td>8139</td>\n",
       "      <td>43680.0</td>\n",
       "      <td>43694.0</td>\n",
       "      <td>48.7</td>\n",
       "      <td>107282.4</td>\n",
       "      <td>23048</td>\n",
       "      <td>108.2</td>\n",
       "      <td>33604</td>\n",
       "      <td>15707.0</td>\n",
       "      <td>37.174</td>\n",
       "    </tr>\n",
       "    <tr>\n",
       "      <th>2</th>\n",
       "      <td>3</td>\n",
       "      <td>Amur Oblast</td>\n",
       "      <td>43714.0</td>\n",
       "      <td>14064</td>\n",
       "      <td>21207.5</td>\n",
       "      <td>9406</td>\n",
       "      <td>2.0</td>\n",
       "      <td>43590.0</td>\n",
       "      <td>62.9</td>\n",
       "      <td>175927.8</td>\n",
       "      <td>95619</td>\n",
       "      <td>109.4</td>\n",
       "      <td>17199</td>\n",
       "      <td>23743.0</td>\n",
       "      <td>43.543</td>\n",
       "    </tr>\n",
       "    <tr>\n",
       "      <th>3</th>\n",
       "      <td>4</td>\n",
       "      <td>Arkhangelsk Oblast</td>\n",
       "      <td>43503.0</td>\n",
       "      <td>19310</td>\n",
       "      <td>22192.1</td>\n",
       "      <td>11688</td>\n",
       "      <td>43527.0</td>\n",
       "      <td>9.0</td>\n",
       "      <td>56.5</td>\n",
       "      <td>256728.4</td>\n",
       "      <td>63912</td>\n",
       "      <td>109.4</td>\n",
       "      <td>14305</td>\n",
       "      <td>43587.0</td>\n",
       "      <td>31.900</td>\n",
       "    </tr>\n",
       "    <tr>\n",
       "      <th>4</th>\n",
       "      <td>5</td>\n",
       "      <td>Astrakhan Oblast</td>\n",
       "      <td>43532.0</td>\n",
       "      <td>14641</td>\n",
       "      <td>16582.1</td>\n",
       "      <td>10651</td>\n",
       "      <td>43586.0</td>\n",
       "      <td>43472.0</td>\n",
       "      <td>68.2</td>\n",
       "      <td>131400.1</td>\n",
       "      <td>56338</td>\n",
       "      <td>109.8</td>\n",
       "      <td>20852</td>\n",
       "      <td>31778.0</td>\n",
       "      <td>60.170</td>\n",
       "    </tr>\n",
       "  </tbody>\n",
       "</table>\n",
       "</div>"
      ],
      "text/plain": [
       "   Region Index  Subjects of Russia  Unemployment rate. %  \\\n",
       "0             1              Adygea               43505.0   \n",
       "1             2               Altai               43685.0   \n",
       "2             3         Amur Oblast               43714.0   \n",
       "3             4  Arkhangelsk Oblast               43503.0   \n",
       "4             5    Astrakhan Oblast               43532.0   \n",
       "\n",
       "   Income per capita. RUB  Average salary. RUB per month  \\\n",
       "0                   12236                        12787.4   \n",
       "1                   10926                        12050.7   \n",
       "2                   14064                        21207.5   \n",
       "3                   19310                        22192.1   \n",
       "4                   14641                        16582.1   \n",
       "\n",
       "   Spendings per capita. RUB  State housing. %  Higher Education. %  \\\n",
       "0                       8361               0.6                  4.0   \n",
       "1                       8139           43680.0              43694.0   \n",
       "2                       9406               2.0              43590.0   \n",
       "3                      11688           43527.0                  9.0   \n",
       "4                      10651           43586.0              43472.0   \n",
       "\n",
       "   Number of doctors per 10000 citizens  GRP per capita. RUB  \\\n",
       "0                                  37.9              93548.3   \n",
       "1                                  48.7             107282.4   \n",
       "2                                  62.9             175927.8   \n",
       "3                                  56.5             256728.4   \n",
       "4                                  68.2             131400.1   \n",
       "\n",
       "   Investment in total capital  Consumer Price Index (CPI)  \\\n",
       "0                        25834                       110.1   \n",
       "1                        23048                       108.2   \n",
       "2                        95619                       109.4   \n",
       "3                        63912                       109.4   \n",
       "4                        56338                       109.8   \n",
       "\n",
       "   Average income / min. living wage  Average costs / min. living wage  \\\n",
       "0                              42036                           17168.0   \n",
       "1                              33604                           15707.0   \n",
       "2                              17199                           23743.0   \n",
       "3                              14305                           43587.0   \n",
       "4                              20852                           31778.0   \n",
       "\n",
       "   Votes for United Russia. %  \n",
       "0                      61.002  \n",
       "1                      37.174  \n",
       "2                      43.543  \n",
       "3                      31.900  \n",
       "4                      60.170  "
      ]
     },
     "execution_count": 443,
     "metadata": {},
     "output_type": "execute_result"
    }
   ],
   "source": [
    "df = pd.read_csv(\"Elections.csv\",delimiter=';')\n",
    "df.head()"
   ]
  },
  {
   "cell_type": "markdown",
   "metadata": {},
   "source": [
    "Будем решать задачу регрессии: необходимо предсказать процент голосов за Единую Россию в каждом регионе по различным характеристикам уровня жизни в регионе.\n",
    "\n",
    "## Шаг 1. \n",
    "Создайте матрицу X объект-признак и целевой вектор y (\"Votes for United Russia. %\")"
   ]
  },
  {
   "cell_type": "code",
   "execution_count": 444,
   "metadata": {},
   "outputs": [],
   "source": [
    "X  = df.drop(\"Votes for United Russia. %\", axis = 1)\n",
    "y = df['Votes for United Russia. %']"
   ]
  },
  {
   "cell_type": "markdown",
   "metadata": {},
   "source": [
    "## Шаг 2.\n",
    "Оставьте в матрице X только столбцы 'Unemployment rate. %', 'Spendings per capita. RUB', 'Number of doctors per 10000 citizens', 'Average salary. RUB per month'"
   ]
  },
  {
   "cell_type": "code",
   "execution_count": 445,
   "metadata": {},
   "outputs": [
    {
     "data": {
      "text/html": [
       "<div>\n",
       "<style scoped>\n",
       "    .dataframe tbody tr th:only-of-type {\n",
       "        vertical-align: middle;\n",
       "    }\n",
       "\n",
       "    .dataframe tbody tr th {\n",
       "        vertical-align: top;\n",
       "    }\n",
       "\n",
       "    .dataframe thead th {\n",
       "        text-align: right;\n",
       "    }\n",
       "</style>\n",
       "<table border=\"1\" class=\"dataframe\">\n",
       "  <thead>\n",
       "    <tr style=\"text-align: right;\">\n",
       "      <th></th>\n",
       "      <th>Unemployment rate. %</th>\n",
       "      <th>Spendings per capita. RUB</th>\n",
       "      <th>Number of doctors per 10000 citizens</th>\n",
       "      <th>Average salary. RUB per month</th>\n",
       "    </tr>\n",
       "  </thead>\n",
       "  <tbody>\n",
       "    <tr>\n",
       "      <th>0</th>\n",
       "      <td>43505.0</td>\n",
       "      <td>8361</td>\n",
       "      <td>37.9</td>\n",
       "      <td>12787.4</td>\n",
       "    </tr>\n",
       "    <tr>\n",
       "      <th>1</th>\n",
       "      <td>43685.0</td>\n",
       "      <td>8139</td>\n",
       "      <td>48.7</td>\n",
       "      <td>12050.7</td>\n",
       "    </tr>\n",
       "    <tr>\n",
       "      <th>2</th>\n",
       "      <td>43714.0</td>\n",
       "      <td>9406</td>\n",
       "      <td>62.9</td>\n",
       "      <td>21207.5</td>\n",
       "    </tr>\n",
       "    <tr>\n",
       "      <th>3</th>\n",
       "      <td>43503.0</td>\n",
       "      <td>11688</td>\n",
       "      <td>56.5</td>\n",
       "      <td>22192.1</td>\n",
       "    </tr>\n",
       "    <tr>\n",
       "      <th>4</th>\n",
       "      <td>43532.0</td>\n",
       "      <td>10651</td>\n",
       "      <td>68.2</td>\n",
       "      <td>16582.1</td>\n",
       "    </tr>\n",
       "    <tr>\n",
       "      <th>...</th>\n",
       "      <td>...</td>\n",
       "      <td>...</td>\n",
       "      <td>...</td>\n",
       "      <td>...</td>\n",
       "    </tr>\n",
       "    <tr>\n",
       "      <th>78</th>\n",
       "      <td>43505.0</td>\n",
       "      <td>7627</td>\n",
       "      <td>47.6</td>\n",
       "      <td>13004.4</td>\n",
       "    </tr>\n",
       "    <tr>\n",
       "      <th>79</th>\n",
       "      <td>43469.0</td>\n",
       "      <td>13771</td>\n",
       "      <td>76.7</td>\n",
       "      <td>46865.7</td>\n",
       "    </tr>\n",
       "    <tr>\n",
       "      <th>80</th>\n",
       "      <td>43685.0</td>\n",
       "      <td>14480</td>\n",
       "      <td>57.1</td>\n",
       "      <td>28708.0</td>\n",
       "    </tr>\n",
       "    <tr>\n",
       "      <th>81</th>\n",
       "      <td>43559.0</td>\n",
       "      <td>20774</td>\n",
       "      <td>51.2</td>\n",
       "      <td>52618.8</td>\n",
       "    </tr>\n",
       "    <tr>\n",
       "      <th>82</th>\n",
       "      <td>43623.0</td>\n",
       "      <td>9571</td>\n",
       "      <td>62.9</td>\n",
       "      <td>16075.8</td>\n",
       "    </tr>\n",
       "  </tbody>\n",
       "</table>\n",
       "<p>83 rows × 4 columns</p>\n",
       "</div>"
      ],
      "text/plain": [
       "    Unemployment rate. %  Spendings per capita. RUB  \\\n",
       "0                43505.0                       8361   \n",
       "1                43685.0                       8139   \n",
       "2                43714.0                       9406   \n",
       "3                43503.0                      11688   \n",
       "4                43532.0                      10651   \n",
       "..                   ...                        ...   \n",
       "78               43505.0                       7627   \n",
       "79               43469.0                      13771   \n",
       "80               43685.0                      14480   \n",
       "81               43559.0                      20774   \n",
       "82               43623.0                       9571   \n",
       "\n",
       "    Number of doctors per 10000 citizens  Average salary. RUB per month  \n",
       "0                                   37.9                        12787.4  \n",
       "1                                   48.7                        12050.7  \n",
       "2                                   62.9                        21207.5  \n",
       "3                                   56.5                        22192.1  \n",
       "4                                   68.2                        16582.1  \n",
       "..                                   ...                            ...  \n",
       "78                                  47.6                        13004.4  \n",
       "79                                  76.7                        46865.7  \n",
       "80                                  57.1                        28708.0  \n",
       "81                                  51.2                        52618.8  \n",
       "82                                  62.9                        16075.8  \n",
       "\n",
       "[83 rows x 4 columns]"
      ]
     },
     "execution_count": 445,
     "metadata": {},
     "output_type": "execute_result"
    }
   ],
   "source": [
    "X = X[ ['Unemployment rate. %', 'Spendings per capita. RUB', 'Number of doctors per 10000 citizens', 'Average salary. RUB per month']]\n",
    "X"
   ]
  },
  {
   "cell_type": "markdown",
   "metadata": {},
   "source": [
    "## Шаг 3.\n",
    "Разбейте данные на train и test (доля тестовых данных - 30%)."
   ]
  },
  {
   "cell_type": "code",
   "execution_count": 446,
   "metadata": {},
   "outputs": [],
   "source": [
    "X_train, X_test, y_train, y_test = train_test_split(X, y, test_size=0.30)"
   ]
  },
  {
   "cell_type": "markdown",
   "metadata": {},
   "source": [
    "## Шаг 4.\n",
    "Обучите линейную регрессию на тренировочных данных и сделайте предсказания на train и на test."
   ]
  },
  {
   "cell_type": "code",
   "execution_count": 447,
   "metadata": {},
   "outputs": [
    {
     "name": "stdout",
     "output_type": "stream",
     "text": [
      "[44.81562938 40.76096792 63.65299657 46.08644164 46.42095292 46.45078901\n",
      " 46.79589091 47.6744339  47.15827576 46.48724061 45.87666079 45.76923606\n",
      " 48.26855956 48.11999885 45.86812491 48.34197747 46.89652664 45.41211764\n",
      " 47.68419919 47.34663409 47.0124795  48.95256897 44.03425699 46.81055096\n",
      " 48.06004776 47.47787302 42.26265939 45.66454863 45.32110657 43.97586895\n",
      " 48.37900415 41.25920912 47.60760104 47.99483555 45.45452218 60.54769884\n",
      " 46.70508882 63.95968002 47.94564725 44.36299197 44.62931448 47.51949305\n",
      " 47.14846396 47.35357416 47.455962   43.48289198 62.79013066 48.72089069\n",
      " 47.11626923 47.95552551 44.5692738  46.5926009  45.25019586 48.48771912\n",
      " 62.7744888  48.24654817 45.08603385 61.44573029]\n"
     ]
    },
    {
     "data": {
      "text/plain": [
       "array([   47.42750369,    49.63826438,    45.13753107,    46.38957919,\n",
       "          48.22555859,    41.93938421,    44.02392313, -3442.65671198,\n",
       "          45.87478911,    45.62845622,    42.8058699 ,    45.67581418,\n",
       "          65.16626809,    46.32938792,    48.97297212,    41.72891491,\n",
       "          46.43251458, -3415.23072201,    61.18002519,    49.21889794,\n",
       "          48.41283204,    47.29678434,    45.01293776,    47.31665053,\n",
       "          36.56018869])"
      ]
     },
     "execution_count": 447,
     "metadata": {},
     "output_type": "execute_result"
    }
   ],
   "source": [
    "linreg = LinearRegression()\n",
    "linreg.fit(X_train, y_train)\n",
    "print(linreg.predict(X_train))\n",
    "linreg.predict(X_test)"
   ]
  },
  {
   "cell_type": "markdown",
   "metadata": {},
   "source": [
    "## Шаг 5.\n",
    "Выведите на экран ошибку MSE на train и на test, затем выведите на экран ошибку r2 на train и test.  "
   ]
  },
  {
   "cell_type": "code",
   "execution_count": 448,
   "metadata": {},
   "outputs": [
    {
     "name": "stdout",
     "output_type": "stream",
     "text": [
      "MSE train: 192.16437219732293\n",
      "MSE test: 980816.300959765\n",
      "R2 train: 0.12458867606574864\n",
      "R2 test: -2348.2324784105376\n"
     ]
    }
   ],
   "source": [
    "print(\"MSE train: {}\".format(mean_squared_error(y_train, linreg.predict(X_train))))\n",
    "print(\"MSE test: {}\".format(mean_squared_error(y_test, linreg.predict(X_test))))\n",
    "print(\"R2 train: {}\".format(r2_score(y_train, linreg.predict(X_train))))\n",
    "print(\"R2 test: {}\".format(r2_score(y_test, linreg.predict(X_test))))"
   ]
  },
  {
   "cell_type": "markdown",
   "metadata": {},
   "source": [
    "## Шаг 6.\n",
    "Вычислите среднее качество (r2) модели на кросс-валидации с k=5 фолдами."
   ]
  },
  {
   "cell_type": "code",
   "execution_count": 449,
   "metadata": {},
   "outputs": [
    {
     "data": {
      "text/plain": [
       "-0.2787409060316636"
      ]
     },
     "execution_count": 449,
     "metadata": {},
     "output_type": "execute_result"
    }
   ],
   "source": [
    "from sklearn.model_selection import KFold\n",
    "kf = KFold(n_splits=5)\n",
    "mysplit = kf.split(X)\n",
    "np.mean(cross_val_score(linreg, X, y, cv=mysplit, scoring = 'r2'))"
   ]
  },
  {
   "cell_type": "markdown",
   "metadata": {},
   "source": [
    "## Шаг 7.\n",
    "Теперь примените линейную регрессию с L1-регуляризацией (Lasso) для данной задачи. Объявите модель и подберите параметр регуляризации alpha по сетке. Ищите alpha в диапазоне (0.1, 1.1) с шагом 0.1. \n",
    "\n",
    "Осуществите подбор параметра alpha по тренировочным данным (Xtrain, ytrain)."
   ]
  },
  {
   "cell_type": "code",
   "execution_count": 450,
   "metadata": {},
   "outputs": [
    {
     "name": "stdout",
     "output_type": "stream",
     "text": [
      "Лучший параметр: alpha = 1.1\n"
     ]
    }
   ],
   "source": [
    "from sklearn.linear_model import Lasso\n",
    "alph = [list(np.arange(0.1,1.11,0.1))][0]\n",
    "alp = {'alpha':alph}\n",
    "reg1 = Lasso()\n",
    "search = GridSearchCV(reg1, alp)\n",
    "search.fit(X_train, y_train)\n",
    "print(\"Лучший параметр: alpha = {}\".format(search.best_params_.get('alpha')))"
   ]
  },
  {
   "cell_type": "markdown",
   "metadata": {},
   "source": [
    "## Шаг 8.\n",
    "Выведите наилучший алгоритм и наилучшее качество по результатам подбора alpha (best_estimator_ и best_score_)."
   ]
  },
  {
   "cell_type": "code",
   "execution_count": 451,
   "metadata": {},
   "outputs": [
    {
     "name": "stdout",
     "output_type": "stream",
     "text": [
      "Лучшая модель: Lasso(alpha=1.1, copy_X=True, fit_intercept=True, max_iter=1000,\n",
      "      normalize=False, positive=False, precompute=False, random_state=None,\n",
      "      selection='cyclic', tol=0.0001, warm_start=False)\n",
      "Лучшее качество: -0.15475621347012805\n"
     ]
    }
   ],
   "source": [
    "print('Лучшая модель: {}'.format(search.best_estimator_))\n",
    "print('Лучшее качество: {}'.format(search.best_score_))"
   ]
  },
  {
   "cell_type": "markdown",
   "metadata": {},
   "source": [
    "## Шаг 9.\n",
    "\n",
    "С помощью найденного best_estimator_ сделайте предсказание на тестовых данных и выведите на экран r2-score на тесте."
   ]
  },
  {
   "cell_type": "code",
   "execution_count": 452,
   "metadata": {},
   "outputs": [
    {
     "name": "stdout",
     "output_type": "stream",
     "text": [
      "MSE test: 730471.0235066232\n",
      "R2 test: -1748.6102494221718\n"
     ]
    }
   ],
   "source": [
    "lasso_best = search.best_estimator_\n",
    "print(\"MSE test: {}\".format(mean_squared_error(y_test, lasso_best.predict(X_test))))\n",
    "print(\"R2 test: {}\".format(r2_score(y_test, lasso_best.predict(X_test))))"
   ]
  },
  {
   "cell_type": "markdown",
   "metadata": {},
   "source": [
    "## Шаг 10.\n",
    "\n",
    "Попробуем улучшить качество модели за счет добавления полиномиальных признаков. Создайте pipeline, состоящий из добавления полиномиальных признаков степени 2, а затем применения линейной регрессии.\n",
    "\n",
    "Затем вычислите r2-score этой модели на кросс валидации с пятью фолдами."
   ]
  },
  {
   "cell_type": "code",
   "execution_count": 453,
   "metadata": {},
   "outputs": [
    {
     "data": {
      "text/plain": [
       "-178880.74675733928"
      ]
     },
     "execution_count": 453,
     "metadata": {},
     "output_type": "execute_result"
    }
   ],
   "source": [
    "from sklearn.preprocessing import PolynomialFeatures\n",
    "from sklearn.pipeline import Pipeline\n",
    "pipe = Pipeline([('2-degree', PolynomialFeatures(2,interaction_only=False)), ('linreg', LinearRegression())])\n",
    "kf = KFold(n_splits=5)\n",
    "mysplit = kf.split(X)\n",
    "r2_mean = np.mean(cross_val_score(pipe, X, y, cv=mysplit, scoring = 'r2'))\n",
    "r2_mean"
   ]
  },
  {
   "cell_type": "markdown",
   "metadata": {},
   "source": [
    "## Шаг 11.\n",
    "Обучите модель (pipeline) на тренировочных данных и сделайте предсказания для train и test, затем выведите на экран r2-score и MSE на тренировочных и на тестовых данных."
   ]
  },
  {
   "cell_type": "code",
   "execution_count": 454,
   "metadata": {},
   "outputs": [
    {
     "name": "stdout",
     "output_type": "stream",
     "text": [
      "MSE train: 102.85000976290803\n",
      "MSE test: 376344015823029.4\n",
      "R2 train: 0.5314632874779465\n",
      "R2 test: -901412001575.4075\n"
     ]
    }
   ],
   "source": [
    "pipe.fit(X_train, y_train)\n",
    "pipe.predict(X_train)\n",
    "pipe.predict(X_test)\n",
    "r_2 = r2_score(y_train, pipe.predict(X_train))\n",
    "r_2_2 = r2_score(y_test, pipe.predict(X_test))\n",
    "mse1 = mean_squared_error(y_train, pipe.predict(X_train))\n",
    "mse2 = mean_squared_error(y_test, pipe.predict(X_test))\n",
    "print(\"MSE train: {}\".format(mse1))\n",
    "print(\"MSE test: {}\".format(mse2))\n",
    "print(\"R2 train: {}\".format(r_2))\n",
    "print(\"R2 test: {}\".format(r_2_2))"
   ]
  },
  {
   "cell_type": "markdown",
   "metadata": {},
   "source": [
    "## Сделайте выводы. Для этого ответьте на вопросы:\n",
    "\n",
    "1) Хорошее ли качество показала исходная модель (линейная регрессия без регуляризации)? Является ли эта модель переобученной?\n",
    "\n",
    "2) Помогла ли L1-регуляризация улучшить качество модели?\n",
    "\n",
    "3) Помогло ли добавление полиномов второй степени улучшить качество модели? Как добавление новых признаков повлияло на переобучение?"
   ]
  },
  {
   "cell_type": "markdown",
   "metadata": {},
   "source": [
    "1)Весьма странные данные, при разных разбиениях на train и test результаты могут различаться катастрофически. Переобученность возникает в подавляющем большинстве случаев, значения MSE и $R^2$ на тесте часто отличаются от train в сотни раз в худшую сторону.\n",
    "\n",
    "2)Не помогла, значение $R^2$ и MSE потерпели очень незначительные изменения в лучшую сторону, однако общая цель не достигается, модель все еще ужасно переобучается\n",
    "\n",
    "3)Опять же зависит от разбиения на тест и трейн, но стабльность отсутствует, в большинстве случаев проблема усугубляется после добавления полиномов, MSE возрастает в разы, $R^2$ абсолютно не репрезентативен. Возникает ужасная переобученность"
   ]
  },
  {
   "cell_type": "markdown",
   "metadata": {},
   "source": [
    "### *Попытайтесь улучшить модель (добейтесь наилучшего качества) - можно использовать любые методы."
   ]
  },
  {
   "cell_type": "code",
   "execution_count": 455,
   "metadata": {},
   "outputs": [],
   "source": [
    "df = pd.read_csv(\"Elections.csv\",delimiter=';')"
   ]
  },
  {
   "cell_type": "code",
   "execution_count": 456,
   "metadata": {},
   "outputs": [],
   "source": [
    "a = list(df.columns[:-1])\n",
    "a.remove('Subjects of Russia')\n",
    "a.remove('Region Index')\n",
    "columns = a\n",
    "indicies = np.arange(0, len(columns))\n",
    "np.random.shuffle(indicies)\n",
    "r2 = r_2\n",
    "r2_2 = r_2_2\n",
    "mse_train = mse1\n",
    "mse_test = mse2\n",
    "r2_ = r2_mean"
   ]
  },
  {
   "cell_type": "code",
   "execution_count": 457,
   "metadata": {},
   "outputs": [
    {
     "name": "stdout",
     "output_type": "stream",
     "text": [
      "Better quality found!\n",
      "Лучший набор признаков: Index(['Investment in total capital', 'State housing. %',\n",
      "       'GRP per capita. RUB', 'Spendings per capita. RUB'],\n",
      "      dtype='object')\n",
      "Лучшая степень полинома: 1\n",
      "MSE train: 187.84778514755283\n",
      "MSE test: 423.57012836328954\n",
      "R2 train: 0.13258441125974274\n",
      "R2 test: -0.026555130441280772\n",
      "Wall time: 39.7 s\n"
     ]
    }
   ],
   "source": [
    "%%time\n",
    "for j in range(1,3): #тестируем степени полиномов\n",
    "    for i in range(1000): #тестируем комбинации признаков\n",
    "        np.random.shuffle(indicies)\n",
    "        X = df[[columns[indicies[0]],columns[indicies[1]],columns[indicies[2]],columns[indicies[3]]]]\n",
    "        X_train, X_test, y_train, y_test = train_test_split(X, y, test_size=0.30)\n",
    "        pipe = Pipeline([('j-degree', PolynomialFeatures(j,interaction_only=False)), ('linreg', LinearRegression())])\n",
    "        pipe.fit(X_train, y_train)\n",
    "        kf = KFold(n_splits=5)\n",
    "        mysplit = kf.split(X_best)\n",
    "        r2_1 = np.mean(cross_val_score(pipe, X_best, y, cv=mysplit, scoring = 'r2'))\n",
    "        if r2_ < r2_1:\n",
    "            r2_ = r2_1\n",
    "            r2 = r2_score(y_train, pipe.predict(X_train))\n",
    "            r2_2 = r2_score(y_test, pipe.predict(X_test))\n",
    "            mse_train = mean_squared_error(y_train, pipe.predict(X_train))\n",
    "            mse_test = mean_squared_error(y_test, pipe.predict(X_test))\n",
    "            X_best = X\n",
    "            best_polynom_degree = j\n",
    "            print('Better quality found!')\n",
    "print('Лучший набор признаков:',X_best.columns)\n",
    "print('Лучшая степень полинома:',best_polynom_degree)\n",
    "print(\"MSE train: {}\".format(mse_train))\n",
    "print(\"MSE test: {}\".format(mse_test))\n",
    "print(\"R2 train: {}\".format(r2))\n",
    "print(\"R2 test: {}\".format(r2_2))"
   ]
  },
  {
   "cell_type": "markdown",
   "metadata": {},
   "source": [
    "Простор для изысканий очень большой, можно пробовать менять количество признаков, степени полинома, изменять гиперпарамеры модели, однако все это не имеет смысла, когда данные имеют такую структуру, что стабильной модели достичь просто невозможно. Возможно, лучшее качество можно было б достичь с помощью других моделей, а не линейной регрессии"
   ]
  }
 ],
 "metadata": {
  "kernelspec": {
   "display_name": "Python 3",
   "language": "python",
   "name": "python3"
  },
  "language_info": {
   "codemirror_mode": {
    "name": "ipython",
    "version": 3
   },
   "file_extension": ".py",
   "mimetype": "text/x-python",
   "name": "python",
   "nbconvert_exporter": "python",
   "pygments_lexer": "ipython3",
   "version": "3.8.2"
  }
 },
 "nbformat": 4,
 "nbformat_minor": 2
}

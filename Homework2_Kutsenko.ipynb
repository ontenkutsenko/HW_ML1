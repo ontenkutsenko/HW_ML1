{
 "cells": [
  {
   "cell_type": "markdown",
   "metadata": {
    "id": "Kfi9Hc6YbzC9"
   },
   "source": [
    "# Домашнее задание №2: линейная регрессия (10 баллов).\n",
    "\n",
    "Некоторые задания будут по вариантам (всего 4 варианта). Чтобы выяснить свой вариант, посчитайте количество букв в своей фамилии, возьмете остаток от деления на 4 и прибавьте 1."
   ]
  },
  {
   "cell_type": "markdown",
   "metadata": {
    "id": "LHGE7dRHb59T"
   },
   "source": [
    "Антон Куценко $\\rightarrow$ Вариант 4"
   ]
  },
  {
   "cell_type": "code",
   "execution_count": 4,
   "metadata": {
    "id": "42QIkzv7bzDB"
   },
   "outputs": [],
   "source": [
    "import numpy as np\n",
    "import matplotlib.pyplot as plt\n"
   ]
  },
  {
   "cell_type": "markdown",
   "metadata": {
    "id": "PphjvLz6bzDS"
   },
   "source": [
    "## Многомерная линейная регрессия из sklearn"
   ]
  },
  {
   "cell_type": "markdown",
   "metadata": {
    "id": "GuM7c9ofbzDU"
   },
   "source": [
    "Применим многомерную регрессию из sklearn для стандартного датасета"
   ]
  },
  {
   "cell_type": "code",
   "execution_count": 5,
   "metadata": {
    "colab": {
     "base_uri": "https://localhost:8080/",
     "height": 35
    },
    "id": "xPgd3yShbzDW",
    "outputId": "d11f9e2c-3128-4bab-de23-be82cc2a6d06"
   },
   "outputs": [
    {
     "name": "stdout",
     "output_type": "stream",
     "text": [
      "(10000, 100) (10000,)\n"
     ]
    }
   ],
   "source": [
    "from sklearn.datasets import make_regression\n",
    "X, y = make_regression(n_samples = 10000, random_state=42)\n",
    "print(X.shape, y.shape)"
   ]
  },
  {
   "cell_type": "markdown",
   "metadata": {
    "id": "5uN9e3aTbzDk"
   },
   "source": [
    "У нас 10000 объектов и 100 признаков. Для начала решим задачу аналитически \"из коробки\"."
   ]
  },
  {
   "cell_type": "code",
   "execution_count": 6,
   "metadata": {
    "colab": {
     "base_uri": "https://localhost:8080/",
     "height": 35
    },
    "id": "a-Gzf1_EbzDm",
    "outputId": "a7e3fdf9-b50c-436a-98e8-98699637f1db"
   },
   "outputs": [
    {
     "name": "stdout",
     "output_type": "stream",
     "text": [
      "2.587185251360931e-25\n"
     ]
    }
   ],
   "source": [
    "from sklearn.linear_model import LinearRegression\n",
    "from sklearn.metrics import mean_squared_error\n",
    "\n",
    "regr = LinearRegression().fit(X, y)\n",
    "osh1 = mean_squared_error(y, regr.predict(X))\n",
    "print(mean_squared_error(y, regr.predict(X)))"
   ]
  },
  {
   "cell_type": "markdown",
   "metadata": {
    "id": "v3pO8atDbzDw"
   },
   "source": [
    "Теперь попробуем обучить линейную регрессию методом градиентного спуска \"из коробки\""
   ]
  },
  {
   "cell_type": "code",
   "execution_count": 7,
   "metadata": {
    "colab": {
     "base_uri": "https://localhost:8080/",
     "height": 468
    },
    "id": "zaeBpvZIbzDy",
    "outputId": "e30b580f-b916-4b4d-c281-0d9e50ded9a3"
   },
   "outputs": [
    {
     "name": "stdout",
     "output_type": "stream",
     "text": [
      "3.965356354236384e-12\n"
     ]
    },
    {
     "data": {
      "text/plain": [
       "array([ 3.75597023e-08,  6.37672897e-08, -5.59948943e-09, -3.71940829e-08,\n",
       "        2.46961389e-08,  5.56172488e-09, -2.37290157e-08, -4.35955159e-08,\n",
       "        5.68645675e-08, -5.43009511e-08, -3.80308880e-08,  3.26829624e+01,\n",
       "       -3.46018473e-08,  2.45759783e-08,  4.62802021e-08,  1.33913762e-08,\n",
       "       -5.93085182e-08, -1.12283768e-08,  3.55644170e-08, -4.54512235e-09,\n",
       "        6.67389281e-08,  2.40776950e-09,  2.45548500e-08,  8.26861720e+01,\n",
       "        2.80816212e-09, -6.96115103e-08, -3.40415543e-09, -4.63311618e-08,\n",
       "       -1.02613836e-08, -3.51511937e-08, -8.36638661e-09, -7.38338135e-08,\n",
       "       -4.64945056e-08, -8.30548221e-08, -3.01523744e-08, -8.37011520e-08,\n",
       "       -4.27278656e-08, -3.81510428e-09,  4.45438322e-08,  1.91317508e-08,\n",
       "        2.12696059e-08,  3.21576448e-08, -2.72703418e-08,  3.00707399e-08,\n",
       "        1.22432338e-08,  1.72568045e-08,  5.60394311e+01,  6.32578883e+01,\n",
       "        1.69423525e-08, -5.28528778e-08, -1.28248535e-08,  1.75466249e-08,\n",
       "        9.01726066e+01, -1.61406480e-08,  4.75412378e-08, -4.23472151e-08,\n",
       "        4.68463932e-08,  2.05715137e+01,  7.15561931e+01, -5.74940486e-09,\n",
       "        3.69290093e-08,  1.16655395e-08, -1.09233021e-08,  2.42999962e-08,\n",
       "       -1.29588938e-08, -3.80374571e-08,  4.69651887e-08,  2.11466249e+01,\n",
       "        8.99420622e-09, -4.47121565e-08,  2.57264951e-09, -2.70140211e-08,\n",
       "       -1.14427871e-08, -5.89974182e-08, -2.44492379e-08,  5.43206038e-09,\n",
       "       -1.45693430e-08, -8.08865437e-09,  7.65136898e-08,  4.19168127e-08,\n",
       "        3.28059787e-08, -1.38004306e-08,  5.84533353e-08, -4.98058583e-08,\n",
       "        9.55554868e-09,  7.43906731e-08,  6.97006910e-09, -5.11845112e-08,\n",
       "        4.02144311e+01, -1.35133815e-08,  4.84352542e-08,  1.36007992e-08,\n",
       "        3.62933132e-08,  1.39018376e-08,  8.49118205e+01,  6.87400991e-09,\n",
       "       -7.35306863e-08,  2.80980322e-08,  7.18569214e-09,  2.52580315e-08])"
      ]
     },
     "execution_count": 7,
     "metadata": {},
     "output_type": "execute_result"
    }
   ],
   "source": [
    "from sklearn.linear_model import SGDRegressor\n",
    "reg = SGDRegressor(alpha=0.00000001).fit(X, y)\n",
    "osh2 = mean_squared_error(y, reg.predict(X))\n",
    "print(mean_squared_error(y, reg.predict(X)))\n",
    "reg.coef_"
   ]
  },
  {
   "cell_type": "markdown",
   "metadata": {
    "id": "4QcBYWvP23KV"
   },
   "source": [
    "##Задание 1 (1 балл)\n",
    " Объясните, чем вызвана разница в значениях двух полученных значений метрики?"
   ]
  },
  {
   "cell_type": "markdown",
   "metadata": {
    "id": "A-H1Enn9tHp-"
   },
   "source": [
    "Причиной расхождения в значениях MSE стало внутреннее устройство алгоритма, стохастический градиентный спуск имеет параметр шага градиента, который может повлиять на сходимость возле минимума. В то же самое время линейная регрессия из sklearn использует аналитическое решение с обращением матриц. Если количество объектов в наших данных было бы в разы больше( например, 1млн объектов и 100 признаков), то разница во времени обучения была бы уже значительной, при этом качество, конечно, лучше в случае аналитического решения."
   ]
  },
  {
   "cell_type": "markdown",
   "metadata": {
    "id": "AmDgSUwf6Vtb"
   },
   "source": [
    "##Задание 2 (1 балл)\n",
    "Подберите гиперпараметры в методе градиентного спуска так, чтобы значение MSE было близко к значению MSE, полученному при обучении LinearRegression."
   ]
  },
  {
   "cell_type": "code",
   "execution_count": 8,
   "metadata": {
    "colab": {
     "base_uri": "https://localhost:8080/",
     "height": 69
    },
    "id": "yy7OAUKAdQMn",
    "outputId": "c2ac03bf-7a92-47fd-ddd2-60637f791607"
   },
   "outputs": [
    {
     "name": "stdout",
     "output_type": "stream",
     "text": [
      "Минимальная MSE при использовании SGD :9.15459145555654e-25\n",
      "Подходящий learning rate: 1.0000000000000014e-25\n",
      "Разница MSE LinearRegression и SGD : 6.56740620419561e-25\n"
     ]
    }
   ],
   "source": [
    "a = np.linspace(0.00000001, 0.1**25, num = 100) # массив вариантов learning rate\n",
    "error = osh2 # первоначальная MSE при learning rate = 0.00000001\n",
    "razn = osh2 - osh1 # первоначальная разница MSE \n",
    "for i in a:\n",
    "  reg = SGDRegressor(alpha=i).fit(X, y)\n",
    "  k = mean_squared_error(y, reg.predict(X))\n",
    "  if k  < error:\n",
    "    error, alp = k, i\n",
    "razn  = error - osh1  \n",
    "print(\"Минимальная MSE при использовании SGD :{}\".format(error))\n",
    "print(\"Подходящий learning rate: {}\".format(alp))\n",
    "print(\"Разница MSE LinearRegression и SGD : {}\".format(razn))"
   ]
  },
  {
   "cell_type": "markdown",
   "metadata": {
    "id": "3P0yF-SpbzEC"
   },
   "source": [
    "## Ваша многомерная линейная регрессия"
   ]
  },
  {
   "cell_type": "markdown",
   "metadata": {
    "id": "X7iH1VaUrsEz"
   },
   "source": [
    "##Задание 3 (5 баллов)\n",
    "Напишите собственную многомерную линейную регрессию, оптимизирующую MSE методом *градиентного спуска*. Для этого используйте шаблонный класс. \n",
    "\n",
    "Критерий останова: либо норма разности весов на текущей и предыдущей итерациях меньше определенного значения (первый и третий варианты), либо модуль разности функционалов качества (MSE) на текущей и предыдущей итерациях меньше определенного значения (второй и четвертый варианты). Также предлагается завершать обучение в любом случае, если было произведено слишком много итераций."
   ]
  },
  {
   "cell_type": "code",
   "execution_count": 11,
   "metadata": {
    "id": "1Ze0729dqaEK"
   },
   "outputs": [],
   "source": [
    "class LinearRegression(object):\n",
    "    def __init__(self, alpha=0.485, l_ratio=0.000001, tol=0.1**5, max_iter=1000):\n",
    "        '''\n",
    "        Для начала необходимо инициализировать параметры\n",
    "        alpha - это learning rate или шаг обучения\n",
    "        l_ratio - параметр регуляризации\n",
    "        tol - значение для критерия останова\n",
    "        max_iter - максимальное количество итераций обучения\n",
    "        '''\n",
    "        self.max_iter = max_iter\n",
    "        self.tol= tol\n",
    "        self.l_ratio = l_ratio\n",
    "        self.alpha = alpha\n",
    "             \n",
    "    def fit(self, X, y):\n",
    "        '''\n",
    "        Метод для обучения линейной регрессии\n",
    "        X - матрица признаков\n",
    "        y - вектор правильных ответов\n",
    "        '''\n",
    "        X = np.column_stack([np.array(X), [1]* X.shape[0]]) #добавим сразу признак, заданный единицами, чтоб не считать два градиента\n",
    "        y = np.array(y)\n",
    "        w = np.array([0]* (X.shape[1]))\n",
    "        n = len(y)\n",
    "        for i in range(self.max_iter):\n",
    "          y_current = np.matmul(X,w) \n",
    "          cost1 = (1/n) * sum((y - y_current)**2) \n",
    "          w_gradient = (2/n) * (-np.matmul(np.transpose(X), y) + np.matmul(np.matmul(np.transpose(X), X), w)) \n",
    "          w = w - self.alpha * w_gradient\n",
    "          y_current = np.matmul(X,w)\n",
    "          cost2 = (1/n) * sum((y - y_current)**2) \n",
    "          if cost1 - cost2 <= self.tol:\n",
    "            break\n",
    "        self.w = w\n",
    "\n",
    "        return w, cost2 \n",
    "    def predict(self, X):\n",
    "        '''\n",
    "        Метод для предсказаний линейной регрессии\n",
    "        X - матрица признаков\n",
    "        '''\n",
    "        X = np.column_stack([np.array(X), [1]* X.shape[0]])\n",
    "        y_pred = np.matmul(X, self.w)\n",
    "        return y_pred"
   ]
  },
  {
   "cell_type": "code",
   "execution_count": 12,
   "metadata": {
    "colab": {
     "base_uri": "https://localhost:8080/",
     "height": 52
    },
    "id": "4MCr3_ylrXIh",
    "outputId": "767b2544-c296-4103-a182-14885cec47cd"
   },
   "outputs": [
    {
     "name": "stdout",
     "output_type": "stream",
     "text": [
      "MSE: 2.4082186853954137e-22\n",
      "You are amazing! Great work!\n"
     ]
    }
   ],
   "source": [
    "X, y = make_regression(n_samples = 10000, random_state=42)\n",
    "my_reg = LinearRegression(tol=0.1**20) #изменяя значение для критерия останова, мы улучшаем качество, но тереям время\n",
    "my_reg.fit(X, y)\n",
    "print('MSE:',mean_squared_error(y, my_reg.predict(X)))\n",
    "assert mean_squared_error(y, my_reg.predict(X)) < 1e-3\n",
    "print('You are amazing! Great work!')"
   ]
  },
  {
   "cell_type": "code",
   "execution_count": 13,
   "metadata": {
    "colab": {
     "base_uri": "https://localhost:8080/",
     "height": 281
    },
    "id": "ZlgclcTRqXJb",
    "outputId": "e22be791-0009-4fff-ed83-3bdaf17cc010"
   },
   "outputs": [
    {
     "data": {
      "image/png": "[encoded data removed]",
      "text/plain": [
       "<Figure size 432x288 with 1 Axes>"
      ]
     },
     "metadata": {
      "needs_background": "light"
     },
     "output_type": "display_data"
    }
   ],
   "source": [
    "#Проверка работоспособности алгоритма на двухмерном случае\n",
    "#Подобрал специально random_state с более менее линейной связью данных\n",
    "from sklearn.datasets import make_regression\n",
    "X, y = make_regression(n_samples = 1000, random_state=42)\n",
    "X = X[:,:1]\n",
    "my_reg = LinearRegression(tol=0.1**20)\n",
    "x1 = np.linspace(-3,3)\n",
    "y1 = x1 * my_reg.fit(X, y)[0][0] + my_reg.fit(X, y)[0][1]\n",
    "plt.plot(x1,y1, color='red')\n",
    "plt.scatter(X,y)\n",
    "plt.title('Линейная регрессия')\n",
    "plt.show()"
   ]
  },
  {
   "cell_type": "markdown",
   "metadata": {
    "id": "s4vK_r-srni1"
   },
   "source": [
    "##Задание 4 (2 балла)\n",
    "Добавьте l1 (первый и четвертый варианты) или l2 (второй и третий варианты) регуляризацию. "
   ]
  },
  {
   "cell_type": "code",
   "execution_count": 49,
   "metadata": {
    "id": "1Hx3yCoWbzEG"
   },
   "outputs": [],
   "source": [
    "class LinearRegression_1(object):\n",
    "    def __init__(self, alpha=0.485, l_ratio=0.1**10, tol=0.1**20, max_iter=10000):\n",
    "        '''\n",
    "        Для начала необходимо инициализировать параметры\n",
    "        alpha - это learning rate или шаг обучения\n",
    "        l_ratio - параметр регуляризации\n",
    "        tol - значение для критерия останова\n",
    "        max_iter - максимальное количество итераций обучения\n",
    "        '''\n",
    "        self.max_iter = max_iter\n",
    "        self.tol= tol\n",
    "        self.l_ratio = l_ratio\n",
    "        self.alpha = alpha\n",
    "             \n",
    "    def fit(self, X, y):\n",
    "        '''\n",
    "        Метод для обучения линейной регрессии\n",
    "        X - матрица признаков\n",
    "        y - вектор правильных ответов\n",
    "        '''\n",
    "        X = np.column_stack([np.array(X), [1]* X.shape[0]])\n",
    "        y = np.array(y)\n",
    "        w = np.array([0]* (X.shape[1]))\n",
    "        n = len(y)\n",
    "        lol = []\n",
    "        for i in range(self.max_iter):\n",
    "          y_current = np.matmul(X,w) \n",
    "          cost1 = (1/n) * sum((y - y_current)**2) + sum(np.absolute(w))\n",
    "          w_gradient = (2 / n) * (-np.matmul(np.transpose(X), y) + np.matmul(np.matmul(np.transpose(X), X), w)) + self.l_ratio * np.sign(w)\n",
    "          w = w - self.alpha * w_gradient\n",
    "          y_current = np.matmul(X,w)\n",
    "          cost2 = (1/n) * sum((y - y_current)**2) + sum(np.absolute(w))\n",
    "          if cost1 - cost2 <= self.tol:\n",
    "            break\n",
    "        self.w = w\n",
    "        print(w)\n",
    "\n",
    "        return w, cost2 \n",
    "    def predict(self, X):\n",
    "        '''\n",
    "        Метод для предсказаний линейной регрессии\n",
    "        X - матрица признаков\n",
    "        '''\n",
    "        X = np.column_stack([np.array(X), [1]* X.shape[0]])\n",
    "        y_pred = np.matmul(X, self.w)\n",
    "        return y_pred"
   ]
  },
  {
   "cell_type": "code",
   "execution_count": 50,
   "metadata": {
    "colab": {
     "base_uri": "https://localhost:8080/",
     "height": 503
    },
    "id": "uVp729sBbzEW",
    "outputId": "3c133449-6321-41e4-f191-285db381c729"
   },
   "outputs": [
    {
     "name": "stdout",
     "output_type": "stream",
     "text": [
      "[-5.09289583e-11  5.01486764e-11  4.53474549e-11 -4.94660429e-11\n",
      " -5.83686725e-11  4.95452741e-11 -4.77000113e-11 -4.95655155e-11\n",
      "  5.24858373e-11 -4.86504443e-11  4.35955530e-11  3.26829628e+01\n",
      "  5.43471615e-11 -5.36764855e-11  4.96738180e-11  4.69764718e-11\n",
      "  4.21687523e-11 -5.10498563e-11 -5.58764776e-11 -4.81311616e-11\n",
      "  5.28710360e-11  5.51490070e-11 -4.96503567e-11  8.26861728e+01\n",
      "  4.41575681e-11 -5.10200731e-11  5.33525149e-11  4.83470297e-11\n",
      " -5.08456600e-11 -5.06256200e-11  4.18270050e-11  4.72339715e-11\n",
      "  5.39166621e-11  4.44011967e-11  4.17856497e-11 -5.53240902e-11\n",
      " -4.88000708e-11  4.71130635e-11  4.57868759e-11 -4.32849540e-11\n",
      "  4.23883390e-11 -4.90687934e-11  3.96419499e-11  4.86094827e-11\n",
      "  4.77749965e-11  4.13175916e-11  5.60394317e+01  6.32578889e+01\n",
      "  4.55658284e-11  4.66184216e-11  5.74006734e-11  5.34669353e-11\n",
      "  9.01726076e+01 -4.83168283e-11  5.50414324e-11  4.86272106e-11\n",
      "  4.66292117e-11  2.05715140e+01  7.15561938e+01 -4.61325315e-11\n",
      " -4.37844351e-11  4.70673519e-11  4.82235557e-11 -5.43321269e-11\n",
      " -4.43025025e-11  4.98029191e-11 -4.37041633e-11  2.11466252e+01\n",
      " -5.07600554e-11  4.80559446e-11 -4.76467531e-11  4.95553260e-11\n",
      " -5.52250884e-11  4.91911904e-11 -4.62083239e-11  4.52484303e-11\n",
      "  4.27559370e-11 -5.38478069e-11 -4.96134679e-11 -5.23357799e-11\n",
      "  4.74909918e-11 -5.60893686e-11  5.18986193e-11 -4.56575258e-11\n",
      "  5.54832902e-11  5.15759900e-11 -4.84159330e-11 -4.95800753e-11\n",
      "  4.02144315e+01  4.57525389e-11 -4.41978207e-11  5.59992582e-11\n",
      " -3.68225575e-11 -4.49938349e-11  8.49118214e+01 -4.26771052e-11\n",
      " -5.45984405e-11  4.80423547e-11  4.51904229e-11  4.61953007e-11\n",
      " -4.27614772e-11]\n",
      "You are amazing! Great work!\n",
      "MSE: 2.500906324246984e-19\n"
     ]
    }
   ],
   "source": [
    "X, y = make_regression(n_samples = 10000, random_state=42)\n",
    "my_reg = LinearRegression_1()\n",
    "my_reg.fit(X, y)\n",
    "assert mean_squared_error(y, my_reg.predict(X)) < 1e-3\n",
    "print('You are amazing! Great work!')\n",
    "print('MSE:',mean_squared_error(y, my_reg.predict(X)))"
   ]
  },
  {
   "cell_type": "code",
   "execution_count": 50,
   "metadata": {
    "id": "O8SkLBtndUCa"
   },
   "outputs": [],
   "source": [
    "\n"
   ]
  },
  {
   "cell_type": "markdown",
   "metadata": {
    "id": "t2MBQvCcbzEh"
   },
   "source": [
    "##Задание 5 (1 балл)\n",
    " Обучите линейную регрессию из коробки с l1-регуляризацией (from sklearn.linear_model import Lasso, первый и четвертый варианты) или с l2-регуляризацией (from sklearn.linear_model import Ridge, второй и третий варианты) с значением параметра регуляризации 0.1. Обучите вашу линейную регрессию с тем же значением параметра регуляризации и сравните результаты. Сделайте выводы."
   ]
  },
  {
   "cell_type": "code",
   "execution_count": 51,
   "metadata": {
    "id": "5jFIupFebzEj"
   },
   "outputs": [],
   "source": [
    "from sklearn.linear_model import Lasso"
   ]
  },
  {
   "cell_type": "code",
   "execution_count": 52,
   "metadata": {
    "colab": {
     "base_uri": "https://localhost:8080/",
     "height": 381
    },
    "id": "-xTZhXkguCFw",
    "outputId": "2b312aa9-2b7c-4fc7-f536-75e69e67ea56"
   },
   "outputs": [
    {
     "name": "stdout",
     "output_type": "stream",
     "text": [
      "MSE линейной регрессии из коробки с l1-регуляризацией:0.10130120734785844\n"
     ]
    },
    {
     "data": {
      "text/plain": [
       "array([-0.        ,  0.        , -0.        ,  0.        , -0.        ,\n",
       "        0.        , -0.        , -0.        ,  0.        ,  0.        ,\n",
       "       -0.        , 32.57713139,  0.        , -0.        ,  0.        ,\n",
       "       -0.        , -0.        , -0.        ,  0.        ,  0.        ,\n",
       "        0.        ,  0.        , -0.        , 82.58541362,  0.        ,\n",
       "       -0.        ,  0.        , -0.        , -0.        , -0.        ,\n",
       "       -0.        , -0.        ,  0.        , -0.        ,  0.        ,\n",
       "       -0.        , -0.        ,  0.        ,  0.        ,  0.        ,\n",
       "       -0.        ,  0.        , -0.        , -0.        ,  0.        ,\n",
       "       -0.        , 55.93631958, 63.15834586, -0.        , -0.        ,\n",
       "        0.        ,  0.        , 90.07374492, -0.        ,  0.        ,\n",
       "       -0.        , -0.        , 20.46611002, 71.45590813,  0.        ,\n",
       "       -0.        ,  0.        , -0.        ,  0.        ,  0.        ,\n",
       "       -0.        ,  0.        , 21.04876285, -0.        ,  0.        ,\n",
       "       -0.        ,  0.        , -0.        , -0.        ,  0.        ,\n",
       "       -0.        , -0.        ,  0.        ,  0.        , -0.        ,\n",
       "        0.        , -0.        ,  0.        , -0.        , -0.        ,\n",
       "        0.        ,  0.        , -0.        , 40.11645013, -0.        ,\n",
       "        0.        ,  0.        ,  0.        ,  0.        , 84.80846613,\n",
       "        0.        ,  0.        , -0.        , -0.        ,  0.        ])"
      ]
     },
     "execution_count": 52,
     "metadata": {
      "tags": []
     },
     "output_type": "execute_result"
    }
   ],
   "source": [
    "regres = Lasso(0.1)\n",
    "regres.fit(X,y)\n",
    "print('MSE линейной регрессии из коробки с l1-регуляризацией:{}'.format(mean_squared_error(y,regres.predict(X))))\n",
    "regres.coef_"
   ]
  },
  {
   "cell_type": "code",
   "execution_count": 55,
   "metadata": {
    "colab": {
     "base_uri": "https://localhost:8080/",
     "height": 485
    },
    "id": "pSw5F96ZuUIH",
    "outputId": "9e7d8fe8-330c-474c-99c4-841ead811e48"
   },
   "outputs": [
    {
     "name": "stdout",
     "output_type": "stream",
     "text": [
      "[ 6.15234076e-02  4.41076068e-02  5.04206829e-02 -4.86130490e-02\n",
      "  4.47197910e-02  5.15542363e-02  5.68793653e-02 -6.00101357e-02\n",
      " -4.93116926e-02  5.13594553e-02  5.23071222e-02  3.26333591e+01\n",
      "  6.08867155e-02  4.71870947e-02  5.10841327e-02  6.09516675e-02\n",
      "  4.74930272e-02  5.43766833e-02 -4.85950160e-02  4.65012984e-02\n",
      " -4.09596431e-02  5.09527091e-02  5.27958015e-02  8.26169736e+01\n",
      "  5.50161879e-02  4.65593001e-02 -4.88220849e-02  4.68277217e-02\n",
      " -4.44100760e-02  4.63765083e-02 -5.46863435e-02  5.09466307e-02\n",
      " -4.15849132e-02  4.68703469e-02  5.66730063e-02  5.36803363e-02\n",
      " -4.73709887e-02 -4.59916474e-02 -5.65305753e-02  5.77505188e-02\n",
      "  5.20369841e-02  6.05322165e-02  4.96070071e-02  4.44578747e-02\n",
      " -6.03281310e-02 -5.29355773e-02  5.59789506e+01  6.31958350e+01\n",
      "  5.07723737e-02  4.91373744e-02 -4.56930065e-02 -4.61374328e-02\n",
      "  9.01096021e+01  4.05661683e-02 -3.56892376e-02  4.67426171e-02\n",
      "  5.11844072e-02  2.05148328e+01  7.14879609e+01 -5.21048464e-02\n",
      "  4.71802816e-02 -4.82161742e-02  4.75332889e-02 -5.29369551e-02\n",
      "  6.58425513e-02  4.87477618e-02  5.20894572e-02  2.10916725e+01\n",
      " -6.37451925e-02  6.31654078e-02 -4.98892033e-02  4.95948030e-02\n",
      " -4.49208375e-02 -5.70765335e-02  4.81976627e-02 -5.24301096e-02\n",
      " -4.53985320e-02 -5.29376792e-02 -4.82196048e-02 -5.00574733e-02\n",
      " -5.07021175e-02 -5.44090143e-02 -4.96813088e-02  4.68220176e-02\n",
      "  4.37026347e-02 -4.72164934e-02 -5.08685927e-02  5.01343944e-02\n",
      "  4.01509564e+01  6.08668251e-02 -5.46757697e-02 -4.96886356e-02\n",
      " -5.31172612e-02  5.03036885e-02  8.48425443e+01 -4.42277025e-02\n",
      "  5.69176947e-02  4.95300179e-02 -4.58422340e-02  5.25359567e-02\n",
      " -5.23656600e-02]\n",
      "MSE моей линейной регрессии с l1-регуляризацией:0.3010409505977648\n"
     ]
    }
   ],
   "source": [
    "regres_1 = LinearRegression_1(l_ratio=0.1)\n",
    "regres_1.fit(X,y)\n",
    "print('MSE моей линейной регрессии с l1-регуляризацией:{}'.format(mean_squared_error(y,regres_1.predict(X))))"
   ]
  },
  {
   "cell_type": "markdown",
   "metadata": {
    "id": "Vi5u-WOAvBOt"
   },
   "source": [
    "Встроенная регрессия с регуляризацией имеет меньшую MSE и большинство параметров вектора w обнуляются, в моей модели те же параметры стрмятся к обнулению, однако не доходят до нуля, приобретая просто очень маленькие значения. Скорее всего, такие различия связаны со внутренним устройством алгоритмов, в моей модели используется классический градиентный спуск, а в Lasso метод покоординатного спуска."
   ]
  }
 ],
 "metadata": {
  "colab": {
   "collapsed_sections": [
    "PphjvLz6bzDS",
    "4QcBYWvP23KV",
    "AmDgSUwf6Vtb",
    "X7iH1VaUrsEz",
    "s4vK_r-srni1",
    "t2MBQvCcbzEh"
   ],
   "name": "Homework2.ipynb",
   "provenance": []
  },
  "kernelspec": {
   "display_name": "Python 3",
   "language": "python",
   "name": "python3"
  },
  "language_info": {
   "codemirror_mode": {
    "name": "ipython",
    "version": 3
   },
   "file_extension": ".py",
   "mimetype": "text/x-python",
   "name": "python",
   "nbconvert_exporter": "python",
   "pygments_lexer": "ipython3",
   "version": "3.8.2"
  }
 },
 "nbformat": 4,
 "nbformat_minor": 1
}

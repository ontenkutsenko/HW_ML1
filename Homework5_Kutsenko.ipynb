{
  "nbformat": 4,
  "nbformat_minor": 0,
  "metadata": {
    "kernelspec": {
      "display_name": "Python 3",
      "language": "python",
      "name": "python3"
    },
    "language_info": {
      "codemirror_mode": {
        "name": "ipython",
        "version": 3
      },
      "file_extension": ".py",
      "mimetype": "text/x-python",
      "name": "python",
      "nbconvert_exporter": "python",
      "pygments_lexer": "ipython3",
      "version": "3.7.6"
    },
    "colab": {
      "name": "Homework_5.ipynb\"",
      "provenance": [],
      "collapsed_sections": [
        "D56uVY-wYkr7",
        "EmBIZoCXYkr-"
      ]
    }
  },
  "cells": [
    {
      "cell_type": "markdown",
      "metadata": {
        "id": "1s1f0bvrm8cS"
      },
      "source": [
        "# Свернуть описание"
      ]
    },
    {
      "cell_type": "markdown",
      "metadata": {
        "id": "50PVn1zVYkrR"
      },
      "source": [
        "## Домашняя работа 5. \n",
        "\n",
        "![](https://newapplift-production.s3.amazonaws.com/comfy/cms/files/files/000/001/201/original/machine-learning-robots-dilbert.gif)\n",
        "\n",
        "Результат домашней работы − отчет. Мы предпочитаем принимать отчеты в формате ноутбуков Jupyter (ipynb-файл). Постарайтесь сделать ваш отчет интересным рассказом, последовательно отвечающим на вопросы из заданий. Помимо ответов на вопросы, в отчете так же должен быть код, однако чем меньше кода, тем лучше всем: нам − меньше проверять, вам — проще найти ошибку или дополнить эксперимент. При проверке оценивается четкость ответов на вопросы, аккуратность отчета и кода.\n",
        "\n",
        "### Оценивание и штрафы\n",
        "Каждая из задач имеет определенную «стоимость» (указана в скобках около задачи). Максимально допустимая оценка за работу — 10 баллов. Сдавать задание после указанного срока сдачи нельзя. «Похожие» решения считаются плагиатом и все задействованные студенты (в том числе те, у кого списали) не могут получить за него больше 0 баллов и понижают карму. Если вы нашли решение какого-то из заданий в открытом источнике, необходимо прислать ссылку на этот источник (скорее всего вы будете не единственным, кто это нашел, поэтому чтобы исключить подозрение в плагиате, нам необходима ссылка на источник)."
      ]
    },
    {
      "cell_type": "markdown",
      "metadata": {
        "id": "yco9DjGXYkrS"
      },
      "source": [
        "## Данные\n",
        "\n",
        "\n",
        "В этой домашней работе мы научимся обучать модели машинного обучения, корректно ставить эксперименты, подбирать гиперпараметры, сравнивать и смешивать модели. Вам предлагается решить задачу бинарной классификации, а именно построить алгоритм, определяющий превысит ли средний заработок человека порог $50k. Каждый объект выборки — человек, для которого известны следующие признаки:\n",
        " - age\n",
        " - workclass\n",
        " - fnlwgt\n",
        " - education\n",
        " - education-num\n",
        " - marital-status\n",
        " - occupation\n",
        " - relationship\n",
        " - race\n",
        " - sex\n",
        " - capital-gain\n",
        " - capital-loss\n",
        " - hours-per-week\n",
        " \n",
        "Более подробно про признаки можно почитать [здесь](http://archive.ics.uci.edu/ml/machine-learning-databases/adult/adult.names). Целевой признак записан в переменной *>50K,<=50K*."
      ]
    },
    {
      "cell_type": "markdown",
      "metadata": {
        "id": "9ckZWMtmYkrS"
      },
      "source": [
        "## Метрика качества\n",
        "\n",
        "Обучение и оценка качества модели производится на независимых множествах примеров. Как правило, имеющующиеся примеры разбивают на два подмножества: обучение (train) и контроль (test). Выбор пропорции разбиения — компромисс. Действительно, большой размер обучения ведет к более качественным алгоритмам, но бОльшему шуму в оценке модели на контроле. И наоборот, большой размер контрольной выборки ведет к менее шумной оценке качества, однако модели получаются менее точными.\n",
        "\n",
        "Многие модели классификации получают оценку принадлежности положительному классу $\\tilde{y}(x) \\in R$ (например, вероятность принадлежности классу 1). Затем принимают решение о классе объекта путем сравнения оценки с некоторым порогом $\\theta$:\n",
        "\n",
        "$y(x) = +1$,  если $\\tilde{y}(x) \\geq \\theta$, $y(x) = -1$, если $\\tilde{y}(x) < \\theta$\n",
        "\n",
        "В этом случае можно рассматривать метрики, которые умеют работать с исходным ответом классификатора. В задании мы будем работать с метрикой AUC-ROC. Детального понимания принципов работы метрики AUC-ROC для выполнения лабораторной не требуется."
      ]
    },
    {
      "cell_type": "markdown",
      "metadata": {
        "id": "us4awYPTYkrT"
      },
      "source": [
        "## Подбор гиперпараметров модели\n",
        "\n",
        "В задачах машинного обучения следует различать параметры модели и гиперпараметры (структурные параметры). Обычно параметры модели настраиваются в ходе обучения (например, веса в линейной модели или структура решающего дерева), в то время как гиперпараметры задаются заранее (например, регуляризация в линейной модели или максимальная глубина решающего дерева). Каждая модель обычно имеет множество гиперпараметров, и нет универсальных наборов гиперпараметров, оптимально работающих во всех задачах, для каждой задачи нужно подбирать свой набор.\n",
        "\n",
        "Для оптимизации гиперпараметров модели часто используют _перебор по сетке (grid search)_: для каждого гиперпараметра выбирается несколько значений, перебираются все комбинации значений и выбирается комбинация, на которой модель показывает лучшее качество (с точки зрения метрики, которая оптимизируется). Однако в этом случае нужно грамотно оценивать построенную модель, а именно делать разбиение на обучающую и тестовую выборку. Есть несколько схем, как это можно реализовать: \n",
        "\n",
        " - Разбить имеющуюся выборку на обучающую и тестовую. В этом случае сравнение большого числа моделей при переборе параметров приводит к ситуации, когда лучшая на тестовой подвыборке модель не сохраняет свои качества на новых данных. Можно сказать, что происходит _переобучение_ на тестовую выборку.\n",
        " - Для устранения описанной выше проблемы, можно разбить данные на 3 непересекающихся подвыборки: обучение (`train`), валидация (`validation`) и контроль (`test`). Валидационную подвыборку используют для сравнения моделей, а `test` — для окончательной оценки качества и сравнения семейств моделей с подобранными параметрами.\n",
        " - Другой способ сравнения моделей — [кросс-валидация](http://en.wikipedia.org/wiki/Cross-validation_(statistics). Существуют различные схемы кросс-валидации:\n",
        "  - Leave-One-Out\n",
        "  - K-Fold\n",
        "  - Многократное случайное разбиение выборки\n",
        "  \n",
        "Кросс-валидация вычислительно затратна, особенно если вы делаете перебор по сетке с очень большим числом комбинации. С учетом конечности времени на выполнение задания, возникает ряд компромиссов: \n",
        "  - сетку можно делать более разреженной, перебирая меньше значений каждого параметра; однако, надо не забывать, что в таком случае можно пропустить хорошую комбинацию параметров;\n",
        "  - кросс-валидацию можно делать с меньшим числом разбиений или фолдов, но в таком случае оценка качества кросс-валидации становится более шумной и увеличивается риск выбрать неоптимальный набор параметров из-за случайности разбиения;\n",
        "  - параметры можно оптимизировать последовательно (жадно) — один за другим, а не перебирать все комбинации; такая стратегия не всегда приводит к оптимальному набору;\n",
        "  - перебирать не все комбинации параметров, а небольшое число случайно выбранных."
      ]
    },
    {
      "cell_type": "markdown",
      "metadata": {
        "id": "AUla56U6YkrU"
      },
      "source": [
        "# Задание\n",
        "\n",
        "Прежде чем приступать к заданию, рекомендуем в начале прочитать его до конца."
      ]
    },
    {
      "cell_type": "markdown",
      "metadata": {
        "id": "6oXyamdomit0"
      },
      "source": [
        "##Данные и их подготовка"
      ]
    },
    {
      "cell_type": "markdown",
      "metadata": {
        "id": "sPV1SJYiYkrV"
      },
      "source": [
        "Загрузите набор данных *data.adult.csv*. Чтобы лучше понимать, с чем вы работаете/корректно ли вы загрузили данные можно вывести несколько первых строк на экран."
      ]
    },
    {
      "cell_type": "code",
      "metadata": {
        "id": "XGrpx825sZBa"
      },
      "source": [
        "import pandas as pd\n",
        "import numpy as np\n",
        "random_state= 3"
      ],
      "execution_count": 1,
      "outputs": []
    },
    {
      "cell_type": "code",
      "metadata": {
        "id": "zcvBISysnsHx",
        "outputId": "291822ae-7fc7-41a6-8eef-e68baacc0282",
        "colab": {
          "base_uri": "https://localhost:8080/"
        }
      },
      "source": [
        "from google.colab import drive\n",
        "drive.mount('/content/drive')"
      ],
      "execution_count": 2,
      "outputs": [
        {
          "output_type": "stream",
          "text": [
            "Drive already mounted at /content/drive; to attempt to forcibly remount, call drive.mount(\"/content/drive\", force_remount=True).\n"
          ],
          "name": "stdout"
        }
      ]
    },
    {
      "cell_type": "code",
      "metadata": {
        "id": "h97160BYYkrW",
        "outputId": "abacdacf-d144-43b4-d02d-7ad141258831",
        "colab": {
          "base_uri": "https://localhost:8080/",
          "height": 302
        }
      },
      "source": [
        "df = pd.read_csv('/content/drive/My Drive/Машинное обучение 1/data.adult.csv')\n",
        "df.head(5)\n"
      ],
      "execution_count": 3,
      "outputs": [
        {
          "output_type": "execute_result",
          "data": {
            "text/html": [
              "<div>\n",
              "<style scoped>\n",
              "    .dataframe tbody tr th:only-of-type {\n",
              "        vertical-align: middle;\n",
              "    }\n",
              "\n",
              "    .dataframe tbody tr th {\n",
              "        vertical-align: top;\n",
              "    }\n",
              "\n",
              "    .dataframe thead th {\n",
              "        text-align: right;\n",
              "    }\n",
              "</style>\n",
              "<table border=\"1\" class=\"dataframe\">\n",
              "  <thead>\n",
              "    <tr style=\"text-align: right;\">\n",
              "      <th></th>\n",
              "      <th>age</th>\n",
              "      <th>workclass</th>\n",
              "      <th>fnlwgt</th>\n",
              "      <th>education</th>\n",
              "      <th>education-num</th>\n",
              "      <th>marital-status</th>\n",
              "      <th>occupation</th>\n",
              "      <th>relationship</th>\n",
              "      <th>race</th>\n",
              "      <th>sex</th>\n",
              "      <th>capital-gain</th>\n",
              "      <th>capital-loss</th>\n",
              "      <th>hours-per-week</th>\n",
              "      <th>&gt;50K,&lt;=50K</th>\n",
              "    </tr>\n",
              "  </thead>\n",
              "  <tbody>\n",
              "    <tr>\n",
              "      <th>0</th>\n",
              "      <td>34</td>\n",
              "      <td>Local-gov</td>\n",
              "      <td>284843</td>\n",
              "      <td>HS-grad</td>\n",
              "      <td>9</td>\n",
              "      <td>Never-married</td>\n",
              "      <td>Farming-fishing</td>\n",
              "      <td>Not-in-family</td>\n",
              "      <td>Black</td>\n",
              "      <td>Male</td>\n",
              "      <td>594</td>\n",
              "      <td>0</td>\n",
              "      <td>60</td>\n",
              "      <td>&lt;=50K</td>\n",
              "    </tr>\n",
              "    <tr>\n",
              "      <th>1</th>\n",
              "      <td>40</td>\n",
              "      <td>Private</td>\n",
              "      <td>190290</td>\n",
              "      <td>Some-college</td>\n",
              "      <td>10</td>\n",
              "      <td>Divorced</td>\n",
              "      <td>Sales</td>\n",
              "      <td>Not-in-family</td>\n",
              "      <td>White</td>\n",
              "      <td>Male</td>\n",
              "      <td>0</td>\n",
              "      <td>0</td>\n",
              "      <td>40</td>\n",
              "      <td>&lt;=50K</td>\n",
              "    </tr>\n",
              "    <tr>\n",
              "      <th>2</th>\n",
              "      <td>36</td>\n",
              "      <td>Local-gov</td>\n",
              "      <td>177858</td>\n",
              "      <td>Bachelors</td>\n",
              "      <td>13</td>\n",
              "      <td>Married-civ-spouse</td>\n",
              "      <td>Prof-specialty</td>\n",
              "      <td>Own-child</td>\n",
              "      <td>White</td>\n",
              "      <td>Male</td>\n",
              "      <td>0</td>\n",
              "      <td>0</td>\n",
              "      <td>40</td>\n",
              "      <td>&lt;=50K</td>\n",
              "    </tr>\n",
              "    <tr>\n",
              "      <th>3</th>\n",
              "      <td>22</td>\n",
              "      <td>Private</td>\n",
              "      <td>184756</td>\n",
              "      <td>Some-college</td>\n",
              "      <td>10</td>\n",
              "      <td>Never-married</td>\n",
              "      <td>Sales</td>\n",
              "      <td>Own-child</td>\n",
              "      <td>White</td>\n",
              "      <td>Female</td>\n",
              "      <td>0</td>\n",
              "      <td>0</td>\n",
              "      <td>30</td>\n",
              "      <td>&lt;=50K</td>\n",
              "    </tr>\n",
              "    <tr>\n",
              "      <th>4</th>\n",
              "      <td>47</td>\n",
              "      <td>Private</td>\n",
              "      <td>149700</td>\n",
              "      <td>Bachelors</td>\n",
              "      <td>13</td>\n",
              "      <td>Married-civ-spouse</td>\n",
              "      <td>Tech-support</td>\n",
              "      <td>Husband</td>\n",
              "      <td>White</td>\n",
              "      <td>Male</td>\n",
              "      <td>15024</td>\n",
              "      <td>0</td>\n",
              "      <td>40</td>\n",
              "      <td>&gt;50K</td>\n",
              "    </tr>\n",
              "  </tbody>\n",
              "</table>\n",
              "</div>"
            ],
            "text/plain": [
              "   age  workclass  fnlwgt  ... capital-loss  hours-per-week >50K,<=50K\n",
              "0   34  Local-gov  284843  ...            0              60      <=50K\n",
              "1   40    Private  190290  ...            0              40      <=50K\n",
              "2   36  Local-gov  177858  ...            0              40      <=50K\n",
              "3   22    Private  184756  ...            0              30      <=50K\n",
              "4   47    Private  149700  ...            0              40       >50K\n",
              "\n",
              "[5 rows x 14 columns]"
            ]
          },
          "metadata": {
            "tags": []
          },
          "execution_count": 3
        }
      ]
    },
    {
      "cell_type": "markdown",
      "metadata": {
        "id": "KF8hTr5AYkrZ"
      },
      "source": [
        "Иногда в данных встречаются пропуски. Как задаются пропуски обычно либо прописывается в описании к данным, либо просто на месте пропуска после чтения данных оказывается значение numpy.nan. Более подробно о работе с пропусками в Pandas можно прочитать например [здесь](http://pandas.pydata.org/pandas-docs/stable/missing_data.html). \n",
        "\n",
        "В данном датасете пропущенные значения обозначены как \"?\". \n",
        "\n",
        "**(0.5 балла)** Найдите все признаки, имеющие пропущенные значения. Удалите из выборки все объекты с пропусками."
      ]
    },
    {
      "cell_type": "code",
      "metadata": {
        "id": "Ulit0FplsCIC",
        "outputId": "a5a1ee3a-6dc2-4849-8320-ee524decc964",
        "colab": {
          "base_uri": "https://localhost:8080/"
        }
      },
      "source": [
        "df.replace('?', np.nan, inplace = True)\n",
        "df[df.isnull().sum(axis = 1) >0].shape"
      ],
      "execution_count": 4,
      "outputs": [
        {
          "output_type": "execute_result",
          "data": {
            "text/plain": [
              "(933, 14)"
            ]
          },
          "metadata": {
            "tags": []
          },
          "execution_count": 4
        }
      ]
    },
    {
      "cell_type": "code",
      "metadata": {
        "id": "PyHJvr1ZYkra",
        "outputId": "cc5a08f8-6c98-44bd-cf4d-220a86bc9bc0",
        "colab": {
          "base_uri": "https://localhost:8080/"
        }
      },
      "source": [
        "print(df.shape)\n",
        "df.dropna(inplace=True)\n",
        "df.shape"
      ],
      "execution_count": 5,
      "outputs": [
        {
          "output_type": "stream",
          "text": [
            "(16280, 14)\n"
          ],
          "name": "stdout"
        },
        {
          "output_type": "execute_result",
          "data": {
            "text/plain": [
              "(15347, 14)"
            ]
          },
          "metadata": {
            "tags": []
          },
          "execution_count": 5
        }
      ]
    },
    {
      "cell_type": "markdown",
      "metadata": {
        "id": "BTJdApsJYkrc"
      },
      "source": [
        "Обычно после загрузки датасета всегда необходима его некоторая предобработка. В данном случае она будет заключаться в следующем: \n",
        "\n",
        " - Выделите целевую переменную (ту, которую мы хотим предсказывать) в отдельную переменную, удалите ее из датасета и преобразуйте к бинарному формату.\n",
        " - Обратите внимание, что не все признаки являются вещественными (числовыми). В начале мы будем работать только с вещественными признаками. Выделите их отдельно."
      ]
    },
    {
      "cell_type": "code",
      "metadata": {
        "id": "2qUSUuxrYkrd",
        "outputId": "aa54c462-ce62-4efa-9334-9e279bc77d73",
        "colab": {
          "base_uri": "https://localhost:8080/"
        }
      },
      "source": [
        "y = df['>50K,<=50K'].replace('<=50K', -1).replace('>50K', 1)\n",
        "df.drop(columns='>50K,<=50K', inplace=True)\n",
        "y.value_counts()"
      ],
      "execution_count": 6,
      "outputs": [
        {
          "output_type": "execute_result",
          "data": {
            "text/plain": [
              "-1    11407\n",
              " 1     3940\n",
              "Name: >50K,<=50K, dtype: int64"
            ]
          },
          "metadata": {
            "tags": []
          },
          "execution_count": 6
        }
      ]
    },
    {
      "cell_type": "code",
      "metadata": {
        "id": "CrkwvW_zttaw",
        "outputId": "ca80a432-6ed1-4303-d5f2-c3470aaf87c5",
        "colab": {
          "base_uri": "https://localhost:8080/"
        }
      },
      "source": [
        "X = df[['age','fnlwgt','education-num','capital-gain','capital-gain','hours-per-week']]\n",
        "X.info()"
      ],
      "execution_count": 7,
      "outputs": [
        {
          "output_type": "stream",
          "text": [
            "<class 'pandas.core.frame.DataFrame'>\n",
            "Int64Index: 15347 entries, 0 to 16279\n",
            "Data columns (total 6 columns):\n",
            " #   Column          Non-Null Count  Dtype\n",
            "---  ------          --------------  -----\n",
            " 0   age             15347 non-null  int64\n",
            " 1   fnlwgt          15347 non-null  int64\n",
            " 2   education-num   15347 non-null  int64\n",
            " 3   capital-gain    15347 non-null  int64\n",
            " 4   capital-gain    15347 non-null  int64\n",
            " 5   hours-per-week  15347 non-null  int64\n",
            "dtypes: int64(6)\n",
            "memory usage: 839.3 KB\n"
          ],
          "name": "stdout"
        }
      ]
    },
    {
      "cell_type": "markdown",
      "metadata": {
        "id": "n64gSCRxYkrg"
      },
      "source": [
        "## Обучение классификаторов на вещественных признаках\n",
        "\n",
        "В данном разделе необходимо будет работать только с вещественными признаками и целевой переменной.\n",
        "\n",
        "В начале посмотрим как работает подбор параметров по сетке и как влияет на качество разбиение выборки. Сейчас и далее будем рассматривать 4 алгоритма:\n",
        " - [kNN](http://scikit-learn.org/stable/modules/generated/sklearn.neighbors.KNeighborsClassifier.html)\n",
        " - [DecisonTree](http://scikit-learn.org/stable/modules/generated/sklearn.tree.DecisionTreeClassifier.html#sklearn.tree.DecisionTreeClassifier)\n",
        " - [RandomForest](http://scikit-learn.org/stable/modules/generated/sklearn.ensemble.RandomForestClassifier.html)\n",
        " - [SGD Linear Classifier](http://scikit-learn.org/stable/modules/generated/sklearn.linear_model.SGDClassifier.html)\n",
        "\n",
        "Для начала у первых трёх алгоритмов выберем один гиперпараметр, который будем оптимизировать:\n",
        " - kNN — число соседей (*n_neighbors*)\n",
        " - DecisonTree — глубина дерева (*max_depth*)\n",
        " - SGD Linear Classifier — оптимизируемая функция (*loss*)\n",
        " \n",
        "Остальные параметры оставляйте в значениях по умолчанию. Для подбора гиперпараметров воспользуйтесь перебором по сетке, который реализован в классе [GridSearchCV](https://scikit-learn.org/stable/modules/generated/sklearn.model_selection.GridSearchCV.html). В качестве схемы кросс-валидации используйте 5-fold cv, которую можно задать с помощью класса [KFold](https://scikit-learn.org/stable/modules/generated/sklearn.model_selection.KFold.html).\n",
        "\n",
        "**(1.5 балла)** Для каждого алгоритма подберите оптимальные значения указанных гиперпараметров. Постройте график среднего качества по кросс-валидации алгоритма при заданном значении гиперпараметра, на котором также отобразите доверительный интервал."
      ]
    },
    {
      "cell_type": "code",
      "metadata": {
        "id": "A-yE3rWlvVa4",
        "outputId": "316260a7-c9d6-4ac9-c49a-c85e38cf3a51",
        "colab": {
          "base_uri": "https://localhost:8080/"
        }
      },
      "source": [
        "!pip install -U scikit-learn\n",
        "import matplotlib.pyplot as plt\n",
        "from sklearn.model_selection import train_test_split, cross_val_score, GridSearchCV\n",
        "from sklearn.neighbors import KNeighborsClassifier\n",
        "from sklearn.tree import DecisionTreeClassifier\n",
        "from sklearn.ensemble import RandomForestClassifier, VotingClassifier\n",
        "from sklearn.linear_model import SGDClassifier\n",
        "from sklearn.model_selection import KFold\n",
        "from sklearn.metrics import roc_auc_score"
      ],
      "execution_count": 8,
      "outputs": [
        {
          "output_type": "stream",
          "text": [
            "Requirement already up-to-date: scikit-learn in /usr/local/lib/python3.6/dist-packages (0.23.2)\n",
            "Requirement already satisfied, skipping upgrade: scipy>=0.19.1 in /usr/local/lib/python3.6/dist-packages (from scikit-learn) (1.4.1)\n",
            "Requirement already satisfied, skipping upgrade: threadpoolctl>=2.0.0 in /usr/local/lib/python3.6/dist-packages (from scikit-learn) (2.1.0)\n",
            "Requirement already satisfied, skipping upgrade: joblib>=0.11 in /usr/local/lib/python3.6/dist-packages (from scikit-learn) (0.17.0)\n",
            "Requirement already satisfied, skipping upgrade: numpy>=1.13.3 in /usr/local/lib/python3.6/dist-packages (from scikit-learn) (1.18.5)\n"
          ],
          "name": "stdout"
        }
      ]
    },
    {
      "cell_type": "code",
      "metadata": {
        "id": "Gx0OYFhAxQkC"
      },
      "source": [
        "#функция для нахождения лучшего параметра\n",
        "def best_parameter(model, hyperparameter_name,hyperparameter_range , X, y):\n",
        "  param = {hyperparameter_name:hyperparameter_range}\n",
        "  clf = model\n",
        "  kf = KFold(n_splits=5)\n",
        "  mysplit = kf.split(X)\n",
        "  search = GridSearchCV(clf, param, cv=mysplit, scoring='roc_auc')\n",
        "  search.fit(X,y)\n",
        "  if type(hyperparameter_range[0]) == str:\n",
        "    plt.plot(hyperparameter_range,search.cv_results_['mean_test_score'])\n",
        "    plt.ylabel('ROC-AUC')\n",
        "    plt.xlabel(hyperparameter_name)\n",
        "    plt.title('{}'.format(str(model).split('(')[0]))\n",
        "    plt.xticks(rotation=90) \n",
        "    plt.fill_between(hyperparameter_range, search.cv_results_['mean_test_score'] + search.cv_results_['std_test_score'],\n",
        "                 search.cv_results_['mean_test_score'] - search.cv_results_['std_test_score'], alpha =0.4)\n",
        "  else:\n",
        "    plt.plot(hyperparameter_range,search.cv_results_['mean_test_score'])\n",
        "    plt.ylabel('ROC-AUC')\n",
        "    plt.xlabel(hyperparameter_name)\n",
        "    plt.title('{}'.format(str(model).split('(')[0])) \n",
        "    plt.fill_between(hyperparameter_range, search.cv_results_['mean_test_score'] + search.cv_results_['std_test_score'],\n",
        "                 search.cv_results_['mean_test_score'] - search.cv_results_['std_test_score'], alpha =0.4)\n",
        "  plt.show()\n",
        "  print(\"Best {} = {}\".format(hyperparameter_name,search.best_params_.get(hyperparameter_name)))\n",
        "  print('Best AUC: {}'.format(max(search.cv_results_['mean_test_score'])))"
      ],
      "execution_count": 9,
      "outputs": []
    },
    {
      "cell_type": "code",
      "metadata": {
        "id": "dI_dvc2fcqk2",
        "outputId": "bf5fde8a-9041-49b6-cf0c-73eb9baa9d18",
        "colab": {
          "base_uri": "https://localhost:8080/",
          "height": 367
        }
      },
      "source": [
        "%%time\n",
        "best_parameter(DecisionTreeClassifier(random_state = random_state),'max_depth',list(np.arange(1,30,1)),X,y)"
      ],
      "execution_count": 10,
      "outputs": [
        {
          "output_type": "display_data",
          "data": {
            "image/png": "[encoded data removed]",
            "text/plain": [
              "<Figure size 432x288 with 1 Axes>"
            ]
          },
          "metadata": {
            "tags": [],
            "needs_background": "light"
          }
        },
        {
          "output_type": "stream",
          "text": [
            "Best max_depth = 6\n",
            "Best AUC: 0.8332965053533193\n",
            "CPU times: user 5.89 s, sys: 15.4 ms, total: 5.91 s\n",
            "Wall time: 5.91 s\n"
          ],
          "name": "stdout"
        }
      ]
    },
    {
      "cell_type": "code",
      "metadata": {
        "id": "Hy6uRyatcSJP",
        "outputId": "4c591776-a255-423d-a85e-1651693f7539",
        "colab": {
          "base_uri": "https://localhost:8080/",
          "height": 367
        }
      },
      "source": [
        "%%time\n",
        "best_parameter(KNeighborsClassifier(),'n_neighbors',list(np.arange(1,30,2)),X,y)"
      ],
      "execution_count": 11,
      "outputs": [
        {
          "output_type": "display_data",
          "data": {
            "image/png": "[encoded data removed]",
            "text/plain": [
              "<Figure size 432x288 with 1 Axes>"
            ]
          },
          "metadata": {
            "tags": [],
            "needs_background": "light"
          }
        },
        {
          "output_type": "stream",
          "text": [
            "Best n_neighbors = 3\n",
            "Best AUC: 0.6257424160994252\n",
            "CPU times: user 4.89 s, sys: 25 ms, total: 4.92 s\n",
            "Wall time: 4.93 s\n"
          ],
          "name": "stdout"
        }
      ]
    },
    {
      "cell_type": "code",
      "metadata": {
        "id": "AzRm3DvGuXNV",
        "outputId": "8e5b8ce7-9442-45a2-8cf8-96e1eb62eef1",
        "colab": {
          "base_uri": "https://localhost:8080/",
          "height": 872
        }
      },
      "source": [
        "%%time\n",
        "loss = ['hinge', 'log', 'modified_huber', 'squared_hinge', \n",
        "        'perceptron','squared_loss', 'huber', 'epsilon_insensitive', 'squared_epsilon_insensitive']\n",
        "best_parameter(SGDClassifier(random_state = random_state),'loss',loss,X,y)"
      ],
      "execution_count": 12,
      "outputs": [
        {
          "output_type": "stream",
          "text": [
            "/usr/local/lib/python3.6/dist-packages/sklearn/linear_model/_stochastic_gradient.py:573: ConvergenceWarning: Maximum number of iteration reached before convergence. Consider increasing max_iter to improve the fit.\n",
            "  ConvergenceWarning)\n",
            "/usr/local/lib/python3.6/dist-packages/sklearn/linear_model/_stochastic_gradient.py:573: ConvergenceWarning: Maximum number of iteration reached before convergence. Consider increasing max_iter to improve the fit.\n",
            "  ConvergenceWarning)\n",
            "/usr/local/lib/python3.6/dist-packages/sklearn/linear_model/_stochastic_gradient.py:573: ConvergenceWarning: Maximum number of iteration reached before convergence. Consider increasing max_iter to improve the fit.\n",
            "  ConvergenceWarning)\n",
            "/usr/local/lib/python3.6/dist-packages/sklearn/linear_model/_stochastic_gradient.py:573: ConvergenceWarning: Maximum number of iteration reached before convergence. Consider increasing max_iter to improve the fit.\n",
            "  ConvergenceWarning)\n",
            "/usr/local/lib/python3.6/dist-packages/sklearn/linear_model/_stochastic_gradient.py:573: ConvergenceWarning: Maximum number of iteration reached before convergence. Consider increasing max_iter to improve the fit.\n",
            "  ConvergenceWarning)\n",
            "/usr/local/lib/python3.6/dist-packages/sklearn/linear_model/_stochastic_gradient.py:573: ConvergenceWarning: Maximum number of iteration reached before convergence. Consider increasing max_iter to improve the fit.\n",
            "  ConvergenceWarning)\n",
            "/usr/local/lib/python3.6/dist-packages/sklearn/linear_model/_stochastic_gradient.py:573: ConvergenceWarning: Maximum number of iteration reached before convergence. Consider increasing max_iter to improve the fit.\n",
            "  ConvergenceWarning)\n",
            "/usr/local/lib/python3.6/dist-packages/sklearn/linear_model/_stochastic_gradient.py:573: ConvergenceWarning: Maximum number of iteration reached before convergence. Consider increasing max_iter to improve the fit.\n",
            "  ConvergenceWarning)\n",
            "/usr/local/lib/python3.6/dist-packages/sklearn/linear_model/_stochastic_gradient.py:573: ConvergenceWarning: Maximum number of iteration reached before convergence. Consider increasing max_iter to improve the fit.\n",
            "  ConvergenceWarning)\n",
            "/usr/local/lib/python3.6/dist-packages/sklearn/linear_model/_stochastic_gradient.py:573: ConvergenceWarning: Maximum number of iteration reached before convergence. Consider increasing max_iter to improve the fit.\n",
            "  ConvergenceWarning)\n"
          ],
          "name": "stderr"
        },
        {
          "output_type": "display_data",
          "data": {
            "image/png": "[encoded data removed]",
            "text/plain": [
              "<Figure size 432x288 with 1 Axes>"
            ]
          },
          "metadata": {
            "tags": [],
            "needs_background": "light"
          }
        },
        {
          "output_type": "stream",
          "text": [
            "Best loss = log\n",
            "Best AUC: 0.5861169412094288\n",
            "CPU times: user 17.3 s, sys: 4.37 s, total: 21.6 s\n",
            "Wall time: 16.5 s\n"
          ],
          "name": "stdout"
        }
      ]
    },
    {
      "cell_type": "markdown",
      "metadata": {
        "id": "Ij7zYiS7Ykrj"
      },
      "source": [
        "Что вы можете сказать о получившихся графиках?\n",
        "\n",
        "Для решающих деревьев и лижайших соседей с увеличением значения гиперпараметра(max_depth и n_neighbors соответственно) сначала качество возрастает, а потом падает. В SGD модели функции потерь 'perceptron','squared_loss', 'huber', 'epsilon_insensitive' и 'squared_epsilon_insensitive' показывают крайне плохое качество.\n",
        "\n",
        "**(1 балл)** Также подберём число деревьев (*n_estimators*) в алгоритме RandomForest. Как известно, в общем случае Random Forest не переобучается с увеличением количества деревьев, так что при увеличении этого гиперпараметра его качество не будет становиться хуже. Поэтому подберите такое количество деревьев, при котором качество на кросс-валидации стабилизируется. Обратите внимание, что для проведения этого эксперимента не нужно с нуля обучать много случайных лесов с различными количествами деревьев. Обучите один случайный лес с максимальным интересным количеством деревьев, а затем рассмотрите подмножества разных размеров, состоящие из деревьев построенного леса (поле [*estimators_*](http://scikit-learn.org/stable/modules/generated/sklearn.ensemble.RandomForestClassifier.html)). В дальнейших экспериментах используйте это количество деревьев."
      ]
    },
    {
      "cell_type": "code",
      "metadata": {
        "id": "eqQfqsJRokYM"
      },
      "source": [
        "from IPython.display import clear_output"
      ],
      "execution_count": 13,
      "outputs": []
    },
    {
      "cell_type": "code",
      "metadata": {
        "id": "e2tmhsa_PZ93",
        "outputId": "2b24c95c-ff1c-48fe-c6d6-46768358462b",
        "colab": {
          "base_uri": "https://localhost:8080/",
          "height": 385
        }
      },
      "source": [
        "%%time\n",
        "roc_auc = []\n",
        "std = []\n",
        "for i in np.arange(1,100,5):\n",
        "  kf = KFold(n_splits=5)\n",
        "  mysplit = kf.split(X)\n",
        "  #forest.append((str(i),model.estimators_[i]))\n",
        "  model = RandomForestClassifier(n_estimators=i, random_state = random_state)\n",
        "  cross_val = cross_val_score(model, X, y, cv=mysplit, scoring = 'roc_auc')\n",
        "  roc_auc.append(np.mean(cross_val))\n",
        "  std.append(np.std(cross_val))\n",
        "  plt.plot(np.arange(0,i+1,5),np.array(roc_auc))\n",
        "  plt.ylabel('ROC-AUC')\n",
        "  plt.xlabel('n_estimators')\n",
        "  plt.title('{}'.format(str(model).split('(')[0]))\n",
        "  plt.fill_between(np.arange(0,i+1,5), np.array(roc_auc) + np.array(std), np.array(roc_auc) - np.array(std), alpha = 0.4)\n",
        "  plt.show()\n",
        "  print('ROC-AUC:',np.mean(cross_val))\n",
        "  if len(np.array(roc_auc))> 1:\n",
        "    if np.array(roc_auc)[-1] - np.array(roc_auc)[-2] < 0.1**3 :\n",
        "      print('Stabilized!')\n",
        "      print('n_estimators:', i)\n",
        "      break\n",
        "  clear_output(wait=True)"
      ],
      "execution_count": 14,
      "outputs": [
        {
          "output_type": "display_data",
          "data": {
            "image/png": "[encoded data removed]",
            "text/plain": [
              "<Figure size 432x288 with 1 Axes>"
            ]
          },
          "metadata": {
            "tags": [],
            "needs_background": "light"
          }
        },
        {
          "output_type": "stream",
          "text": [
            "ROC-AUC: 0.800948031845494\n",
            "Stabilized!\n",
            "n_estimators: 41\n",
            "CPU times: user 15.2 s, sys: 83.5 ms, total: 15.3 s\n",
            "Wall time: 15.3 s\n"
          ],
          "name": "stdout"
        }
      ]
    },
    {
      "cell_type": "markdown",
      "metadata": {
        "id": "CU72K9xtYkro"
      },
      "source": [
        "##Гистограммы\n",
        "При обучении алгоритмов стоит обращать внимание не только на качество, но и каким образом они работают с данными. В этой задаче получилось так, что некоторые из используемых алгоритмов чувствительны к масштабу признаков. Чтобы убедиться, что это как-то могло повлиять на качество давайте посмотрим на сами признаки.\n",
        "\n",
        "**(0.5 балла)** Постройте гистограммы для признаков *age*, *fnlwgt*, *capital-gain*."
      ]
    },
    {
      "cell_type": "code",
      "metadata": {
        "id": "CEZc9colYkrp",
        "outputId": "9d217c11-c584-4de5-a109-9ad2cc1a6f4f",
        "colab": {
          "base_uri": "https://localhost:8080/",
          "height": 295
        }
      },
      "source": [
        "fig, ax = plt.subplots(ncols =3, figsize = (20,4))\n",
        "ax[0].hist(df['age'], 20)\n",
        "ax[0].set_title('Age distribution')\n",
        "ax[0].set_ylabel('Number of observations')\n",
        "ax[0].set_xlabel('Age')\n",
        "ax[1].hist(df['fnlwgt'],20)\n",
        "ax[1].set_title('Fnlwgt distribution')\n",
        "ax[1].set_ylabel('Number of observations')\n",
        "ax[1].set_xlabel('Fnlwgt')\n",
        "ax[2].hist(df['capital-gain'],20)\n",
        "ax[2].set_title('Capital gain distribution')\n",
        "ax[2].set_ylabel('Number of observations')\n",
        "ax[2].set_xlabel('Capital gain')\n",
        "plt.show()"
      ],
      "execution_count": 15,
      "outputs": [
        {
          "output_type": "display_data",
          "data": {
            "image/png": "[encoded data removed]",
            "text/plain": [
              "<Figure size 1440x288 with 3 Axes>"
            ]
          },
          "metadata": {
            "tags": [],
            "needs_background": "light"
          }
        }
      ]
    },
    {
      "cell_type": "markdown",
      "metadata": {
        "id": "xLBDawPHYkrr"
      },
      "source": [
        "**(0.5 балла)** Глядя на получившиеся графики в чем заключается особенность данных? На какие алгоритмы это может повлиять? Может ли масшитабирование повлиять на работу этих алгоритмов?"
      ]
    },
    {
      "cell_type": "markdown",
      "metadata": {
        "id": "zaPpuK60VsWj"
      },
      "source": [
        "Особенность данных заключается в том, что масштаб признаков очень различен, в тысячи раз, поэтому такие данные могут сильно ухудшить качество работы некоторых алгоритмов, которые сильно опираются на масштаб признаков. Среди наших алгоритмов это особенно влияет на метод ближайших соседей, качество которого напрямую зависит от масштабирования признаков, поскольку в отсутствии масштабирования алгоритм будет больше всего опираться на признаки с наибольшим абсолютным значением, а нам нужно учесть все признаки в равной мере. SGDClassifier, в основе которого лежат линейные модели классификации, также будет показывать плохие результаты на немасштабированных признаках. Для решающих деревьев и случайного леса проблема масштабирования неактульна. Таким образом, масштабирование позволит улучшить нам качество на двух моделях: KNN и линейных моделях."
      ]
    },
    {
      "cell_type": "markdown",
      "metadata": {
        "id": "UVXXcWNRYkrr"
      },
      "source": [
        "##Масштабирование признаков можно выполнить, например, одним из следующих способов способами:\n",
        " - $x_{new} = \\dfrac{x - \\mu}{\\sigma}$, где $\\mu, \\sigma$ — среднее и стандартное отклонение значения признака по всей выборке (см. функцию [scale](http://scikit-learn.org/stable/modules/generated/sklearn.preprocessing.scale.html))\n",
        " - $x_{new} = \\dfrac{x - x_{min}}{x_{max} - x_{min}}$, где $[x_{min}, x_{max}]$ — минимальный интервал значений признака\n",
        "\n",
        "Похожие схемы масштабирования приведены в классах [StandardScaler](http://scikit-learn.org/stable/modules/generated/sklearn.preprocessing.StandardScaler.html#sklearn.preprocessing.StandardScaler) и [MinMaxScaler](http://scikit-learn.org/stable/modules/generated/sklearn.preprocessing.MinMaxScaler.html#sklearn.preprocessing.MinMaxScaler).\n",
        " \n",
        "**(1 балл)** Масштабируйте все вещественные признаки одним из указанных способов и подберите оптимальные значения гиперпараметров аналогичо пункту выше."
      ]
    },
    {
      "cell_type": "code",
      "metadata": {
        "id": "mke3FBTqYkrs",
        "outputId": "3bc21e07-b887-42cf-a4a9-54b2f08f185c",
        "colab": {
          "base_uri": "https://localhost:8080/"
        }
      },
      "source": [
        "from sklearn.preprocessing import StandardScaler\n",
        "scaler = StandardScaler()\n",
        "scaler.fit(X)\n",
        "X1 = scaler.transform(X)\n",
        "X1.shape"
      ],
      "execution_count": 16,
      "outputs": [
        {
          "output_type": "execute_result",
          "data": {
            "text/plain": [
              "(15347, 6)"
            ]
          },
          "metadata": {
            "tags": []
          },
          "execution_count": 16
        }
      ]
    },
    {
      "cell_type": "code",
      "metadata": {
        "id": "6M9dHxY73pmO",
        "outputId": "7a626bdc-2b6e-4934-ea30-af2ffc555006",
        "colab": {
          "base_uri": "https://localhost:8080/",
          "height": 367
        }
      },
      "source": [
        "%%time\n",
        "best_parameter(DecisionTreeClassifier(random_state = random_state),'max_depth',list(np.arange(1,30,1)),X1,y)"
      ],
      "execution_count": 17,
      "outputs": [
        {
          "output_type": "display_data",
          "data": {
            "image/png": "[encoded data removed]",
            "text/plain": [
              "<Figure size 432x288 with 1 Axes>"
            ]
          },
          "metadata": {
            "tags": [],
            "needs_background": "light"
          }
        },
        {
          "output_type": "stream",
          "text": [
            "Best max_depth = 6\n",
            "Best AUC: 0.8332965053533193\n",
            "CPU times: user 5.41 s, sys: 11 ms, total: 5.42 s\n",
            "Wall time: 5.42 s\n"
          ],
          "name": "stdout"
        }
      ]
    },
    {
      "cell_type": "code",
      "metadata": {
        "id": "XvU3AoyJ4s8k",
        "outputId": "5cc1c92b-3591-436d-ec8c-58c2c342824d",
        "colab": {
          "base_uri": "https://localhost:8080/",
          "height": 367
        }
      },
      "source": [
        "%%time\n",
        "best_parameter(KNeighborsClassifier(),'n_neighbors',list(np.arange(1,30,2)),X1,y)"
      ],
      "execution_count": 18,
      "outputs": [
        {
          "output_type": "display_data",
          "data": {
            "image/png": "[encoded data removed]",
            "text/plain": [
              "<Figure size 432x288 with 1 Axes>"
            ]
          },
          "metadata": {
            "tags": [],
            "needs_background": "light"
          }
        },
        {
          "output_type": "stream",
          "text": [
            "Best n_neighbors = 29\n",
            "Best AUC: 0.8285298871984642\n",
            "CPU times: user 14.9 s, sys: 16.1 ms, total: 14.9 s\n",
            "Wall time: 14.9 s\n"
          ],
          "name": "stdout"
        }
      ]
    },
    {
      "cell_type": "code",
      "metadata": {
        "id": "Wv_VkDb_5HkT",
        "outputId": "c51b9b16-f652-45e6-f13f-69f932b4eb69",
        "colab": {
          "base_uri": "https://localhost:8080/",
          "height": 496
        }
      },
      "source": [
        "%%time\n",
        "loss = ['hinge', 'log', 'modified_huber', 'squared_hinge', \n",
        "        'perceptron','squared_loss', 'huber', 'epsilon_insensitive', 'squared_epsilon_insensitive']\n",
        "best_parameter(SGDClassifier(random_state = random_state),'loss',loss,X1,y)"
      ],
      "execution_count": 19,
      "outputs": [
        {
          "output_type": "display_data",
          "data": {
            "image/png": "[encoded data removed]",
            "text/plain": [
              "<Figure size 432x288 with 1 Axes>"
            ]
          },
          "metadata": {
            "tags": [],
            "needs_background": "light"
          }
        },
        {
          "output_type": "stream",
          "text": [
            "Best loss = log\n",
            "Best AUC: 0.8138374909117866\n",
            "CPU times: user 3.03 s, sys: 2.05 s, total: 5.08 s\n",
            "Wall time: 2.67 s\n"
          ],
          "name": "stdout"
        }
      ]
    },
    {
      "cell_type": "code",
      "metadata": {
        "id": "KZrz7oYEXhd5",
        "outputId": "b5500a5b-3b77-4a94-8216-d103885ff523",
        "colab": {
          "base_uri": "https://localhost:8080/",
          "height": 385
        }
      },
      "source": [
        "%%time\n",
        "roc_auc = []\n",
        "std = []\n",
        "for i in np.arange(1,100,5):\n",
        "  kf = KFold(n_splits=5)\n",
        "  mysplit = kf.split(X1)\n",
        "  #forest.append((str(i),model.estimators_[i]))\n",
        "  model = RandomForestClassifier(n_estimators=i, random_state = random_state)\n",
        "  cross_val = cross_val_score(model, X1, y, cv=mysplit, scoring = 'roc_auc')\n",
        "  roc_auc.append(np.mean(cross_val))\n",
        "  std.append(np.std(cross_val))\n",
        "  plt.plot(np.arange(0,i+1,5),np.array(roc_auc))\n",
        "  plt.ylabel('ROC-AUC')\n",
        "  plt.xlabel('n_estimators')\n",
        "  plt.title('{}'.format(str(model).split('(')[0]))\n",
        "  plt.fill_between(np.arange(0,i+1,5), np.array(roc_auc) + np.array(std), np.array(roc_auc) - np.array(std), alpha = 0.4)\n",
        "  plt.show()\n",
        "  print('ROC-AUC:',np.mean(cross_val))\n",
        "  if len(np.array(roc_auc))> 1:\n",
        "    if np.array(roc_auc)[-1] - np.array(roc_auc)[-2] < 0.1**3 :\n",
        "      print('Stabilized!')\n",
        "      print('n_estimators:', i)\n",
        "      break\n",
        "  clear_output(wait=True)"
      ],
      "execution_count": 20,
      "outputs": [
        {
          "output_type": "display_data",
          "data": {
            "image/png": "[encoded data removed]",
            "text/plain": [
              "<Figure size 432x288 with 1 Axes>"
            ]
          },
          "metadata": {
            "tags": [],
            "needs_background": "light"
          }
        },
        {
          "output_type": "stream",
          "text": [
            "ROC-AUC: 0.8009685040733443\n",
            "Stabilized!\n",
            "n_estimators: 41\n",
            "CPU times: user 18.1 s, sys: 93.4 ms, total: 18.2 s\n",
            "Wall time: 18.5 s\n"
          ],
          "name": "stdout"
        }
      ]
    },
    {
      "cell_type": "markdown",
      "metadata": {
        "id": "5UnPr4DkYkru"
      },
      "source": [
        "Изменилось ли качество у некоторых алгоритмов?\n",
        "\n",
        "Качество действительно изменилось для метода ближайших соседей, где масштабирование крайне важно, также качество увеличилось для большинства функций потерь в SGD классификаторе, однако оно все еще крайне плохое для некоторых функци потерь, например, для квадратичной "
      ]
    },
    {
      "cell_type": "markdown",
      "metadata": {
        "id": "1eVBb2JpYkrv"
      },
      "source": [
        "##Перебор нескольких гиперпарметров\n",
        "\n",
        "**(1,5 балла)** Теперь сделайте перебор нескольких гиперпараметров по сетке и найдите оптимальные комбинации (лучшее среднее значение качества) для каждого алгоритма в данном случае: \n",
        " - KNN — число соседей (*n_neighbors*) и метрика (*metric*)\n",
        " - DecisonTree — глубина дерева (*max_depth*) и критерий разбиения (*criterion*)\n",
        " - RandomForest — критерий разбиения в деревьях (*criterion*) и *max_features* (при фиксированном количестве деревьев, найденном ранее)\n",
        " - SGDClassifier — оптимизируемая функция (*loss*) и *penalty*\n",
        " \n",
        "Обратите внимание, что эта операция может быть ресурсо- и трудоемкой. Как оптимизировать подбор параметров по сетке сказано в разделе \"Подбор гиперпараметров модели\""
      ]
    },
    {
      "cell_type": "code",
      "metadata": {
        "id": "jeW6q2BqYkrv"
      },
      "source": [
        "def best_parameters(model, hyperparameter_names, hyperparameter_range , X, y):\n",
        "  param = dict()\n",
        "  for i in range(len(hyperparameter_names)):\n",
        "    param[hyperparameter_names[i]] = hyperparameter_range[i]\n",
        "  clf = model\n",
        "  kf = KFold(n_splits=5)\n",
        "  mysplit = kf.split(X)\n",
        "  search = GridSearchCV(clf, param, cv=mysplit, scoring='roc_auc')\n",
        "  search.fit(X,y)\n",
        "  plt.show()\n",
        "  print(\"Best {} = {}\".format(hyperparameter_names[0],search.best_params_.get(hyperparameter_names[0])))\n",
        "  if len(hyperparameter_names) >1 :\n",
        "    print(\"Best {} = {}\".format(hyperparameter_names[1],search.best_params_.get(hyperparameter_names[1])))\n",
        "  print('Best AUC: {}'.format(max(search.cv_results_['mean_test_score'])))"
      ],
      "execution_count": 46,
      "outputs": []
    },
    {
      "cell_type": "code",
      "metadata": {
        "id": "SCWwBwb39H7O",
        "outputId": "74e3249e-be3c-4985-9f9d-34553acaf35d",
        "colab": {
          "base_uri": "https://localhost:8080/"
        }
      },
      "source": [
        "%%time\n",
        "hyperparameter_range = [list(np.arange(1,34,4)),[ 'chebyshev', 'manhattan','euclidean' ]]\n",
        "hyperparameter_names = ['n_neighbors', 'metric']\n",
        "best_parameters(KNeighborsClassifier(),hyperparameter_names,hyperparameter_range,X1,y)"
      ],
      "execution_count": 22,
      "outputs": [
        {
          "output_type": "stream",
          "text": [
            "Best n_neighbors = 33\n",
            "Best metric = manhattan\n",
            "Best AUC: 0.8302641567797625\n",
            "CPU times: user 28.3 s, sys: 18.7 ms, total: 28.4 s\n",
            "Wall time: 28.4 s\n"
          ],
          "name": "stdout"
        }
      ]
    },
    {
      "cell_type": "code",
      "metadata": {
        "id": "4dedEmDRjfEc",
        "outputId": "e6c22f1b-6690-4c1e-cfa0-bc998ef96906",
        "colab": {
          "base_uri": "https://localhost:8080/"
        }
      },
      "source": [
        "%%time\n",
        "hyperparameter_range = [list(np.arange(1,30,1)),[ 'gini', 'entropy']]\n",
        "hyperparameter_names = ['max_depth', 'criterion']\n",
        "best_parameters(DecisionTreeClassifier(),hyperparameter_names,hyperparameter_range,X1,y)"
      ],
      "execution_count": 23,
      "outputs": [
        {
          "output_type": "stream",
          "text": [
            "Best max_depth = 6\n",
            "Best criterion = gini\n",
            "Best AUC: 0.8333764529228466\n",
            "CPU times: user 12.6 s, sys: 21.3 ms, total: 12.6 s\n",
            "Wall time: 12.6 s\n"
          ],
          "name": "stdout"
        }
      ]
    },
    {
      "cell_type": "code",
      "metadata": {
        "id": "a5ArKeWdjHPZ",
        "outputId": "60a3e87b-a078-4891-bdb4-2ca562cd1c1c",
        "colab": {
          "base_uri": "https://localhost:8080/"
        }
      },
      "source": [
        "%%time\n",
        "hyperparameter_range = [['hinge', 'log', 'modified_huber', 'squared_hinge', \n",
        "                         'perceptron','squared_loss', 'huber', 'epsilon_insensitive', 'squared_epsilon_insensitive'],\n",
        "        [ 'l2', 'l1', 'elasticnet']]\n",
        "hyperparameter_names = ['loss', 'penalty']\n",
        "best_parameters(SGDClassifier(), hyperparameter_names, hyperparameter_range,X1,y)"
      ],
      "execution_count": 24,
      "outputs": [
        {
          "output_type": "stream",
          "text": [
            "Best loss = log\n",
            "Best penalty = l2\n",
            "Best AUC: 0.8161832069750563\n",
            "CPU times: user 10.6 s, sys: 7.52 s, total: 18.2 s\n",
            "Wall time: 9.28 s\n"
          ],
          "name": "stdout"
        }
      ]
    },
    {
      "cell_type": "code",
      "metadata": {
        "id": "OqHQ8AdCaD4z",
        "outputId": "7ad70d52-1574-4022-d918-56183c0b0372",
        "colab": {
          "base_uri": "https://localhost:8080/"
        }
      },
      "source": [
        "%%time\n",
        "max_features = [['auto', 'sqrt', 'log2', None]]\n",
        "hyperparameter_names = ['max_features']\n",
        "best_parameters(RandomForestClassifier(n_estimators=41, random_state = random_state),hyperparameter_names,max_features,X1,y)"
      ],
      "execution_count": 47,
      "outputs": [
        {
          "output_type": "stream",
          "text": [
            "Best max_features = auto\n",
            "Best AUC: 0.8009685040733443\n",
            "CPU times: user 15.5 s, sys: 28.2 ms, total: 15.5 s\n",
            "Wall time: 15.5 s\n"
          ],
          "name": "stdout"
        }
      ]
    },
    {
      "cell_type": "markdown",
      "metadata": {
        "id": "BdJPy-pWYkry"
      },
      "source": [
        "Какой из алгоритмов имеет наилучшее качество?\n",
        "\n",
        "Лучшее качество у DecisionTreeClassifier\n",
        "\n",
        "**(0.5 балла)** Сравните алгоритмы с точки зрения времени обучения. Обучение какого из алгоритмов работает дольше всего и, как вы думаете, почему?\n",
        "\n",
        "Сравнение алгоритмов с точки зрения скорости обучения здесь не совсем уместо, потому что количество перебираемых параметров в моделях различается, однако можно сказать, что для SGD классификатора скорость обучения выше, чем для других моделей, так как изменение гиперпараметров не подразумевает принципиального усложнения модели, поскольку мы просто обучаем новую модель. В то же время в случае kNN и Decision Tree мы каждый раз увеличиваем сложность модели (при увеличении количества ближайших соседей - нужно считать больше расстояний до соседей, при увеличении глубины деревьев сложность также растет за счет увеличения листьев). В данном случае дольше всего работает обучение kNN модели, поскольку мы перебираем больше всего гиперпараметров. Однако если бы мы взяли готовые модели с заранее заданными гиперпараметрами, которые нужно обучить, то, скорее всего, дольше всего обучался бы случайный лес, поскольку там для обучения модели фактически необходимо обучить множество деревьев, модель будет ансамблем. Однако опять-таки зависит от заданных гиперпарметров( если задать огромное количество ближайших соседей в kNN обучение тоже будет крайне долгим)\n"
      ]
    },
    {
      "cell_type": "markdown",
      "metadata": {
        "id": "ncU-Yo-nYkry"
      },
      "source": [
        "## Добавление категориальных признаков в модели\n",
        "\n",
        "Пока мы не использовали нечисловые признаки, которые есть в датасете. Давайте посмотрим, правильно ли мы сделали и увеличится ли качество моделей после добавлениях этих признаков. \n",
        "\n",
        "**(0.5 балла)** Преобразуйте все категориальные признаки с помощью метода one-hot-encoding (например, это можно сделать с помощью функции [pandas.get_dummies](http://pandas.pydata.org/pandas-docs/stable/generated/pandas.get_dummies.html) или [DictVectorizer](http://scikit-learn.org/stable/modules/generated/sklearn.feature_extraction.DictVectorizer.html) из sklearn)."
      ]
    },
    {
      "cell_type": "code",
      "metadata": {
        "id": "-cUoqbGUYkrz",
        "outputId": "61edaa54-4941-4c47-89ef-ff5750ffb434",
        "colab": {
          "base_uri": "https://localhost:8080/"
        }
      },
      "source": [
        "X_obj = pd.get_dummies(df[df.columns[(df.dtypes == \"object\").values]])\n",
        "X_obj.shape"
      ],
      "execution_count": 26,
      "outputs": [
        {
          "output_type": "execute_result",
          "data": {
            "text/plain": [
              "(15347, 57)"
            ]
          },
          "metadata": {
            "tags": []
          },
          "execution_count": 26
        }
      ]
    },
    {
      "cell_type": "markdown",
      "metadata": {
        "id": "5FXFgDM3Ykr3"
      },
      "source": [
        "Так как после кодирования признаков получилось достаточно много, в этой работе мы не будем добавлять их и подбирать заново оптимальные гиперпараметры. \n",
        "\n",
        "**(0.5 балла)** Добавьте к масштабированным вещественным признакам закодированные категориальные и обучите алгоритмы с наилучшими гиперпараметрами из предыдущего пункта. Дало ли добавление новых признаков прирост качества? Измеряйте качество как и раньше используя 5-Fold CV. Для этого удобно воспользоваться функцией [cross_val_score](https://scikit-learn.org/stable/modules/generated/sklearn.model_selection.cross_val_score.html)."
      ]
    },
    {
      "cell_type": "code",
      "metadata": {
        "id": "pwiPGAWFYkr4"
      },
      "source": [
        "X_all = np.concatenate((X1, np.array(X_obj)), axis=1)"
      ],
      "execution_count": 27,
      "outputs": []
    },
    {
      "cell_type": "code",
      "metadata": {
        "id": "vR1-qpjcedTt",
        "outputId": "805a846f-2bf7-46b9-8b57-9bc8b779013d",
        "colab": {
          "base_uri": "https://localhost:8080/"
        }
      },
      "source": [
        "%%time\n",
        "model = KNeighborsClassifier(n_neighbors=33, metric = 'manhattan')\n",
        "kf = KFold(n_splits=5)\n",
        "mysplit = kf.split(X_all)\n",
        "cross_val = cross_val_score(model, X_all, y, cv=mysplit, scoring = 'roc_auc')\n",
        "print('ROC-AUC:',np.mean(cross_val))"
      ],
      "execution_count": 28,
      "outputs": [
        {
          "output_type": "stream",
          "text": [
            "ROC-AUC: 0.890785518084271\n",
            "CPU times: user 22.6 s, sys: 12.2 ms, total: 22.6 s\n",
            "Wall time: 22.6 s\n"
          ],
          "name": "stdout"
        }
      ]
    },
    {
      "cell_type": "code",
      "metadata": {
        "id": "Lnwvw4UMf6Jl",
        "outputId": "81235f95-15bc-4fad-c04e-06a81ba9f580",
        "colab": {
          "base_uri": "https://localhost:8080/"
        }
      },
      "source": [
        "%%time\n",
        "model = DecisionTreeClassifier(max_depth=6, criterion='gini', random_state = random_state)\n",
        "kf = KFold(n_splits=5)\n",
        "mysplit = kf.split(X_all)\n",
        "cross_val1 = cross_val_score(model, X_all, y, cv=mysplit, scoring = 'roc_auc')\n",
        "print('ROC-AUC:',np.mean(cross_val1))"
      ],
      "execution_count": 29,
      "outputs": [
        {
          "output_type": "stream",
          "text": [
            "ROC-AUC: 0.8873757981340145\n",
            "CPU times: user 305 ms, sys: 970 µs, total: 306 ms\n",
            "Wall time: 307 ms\n"
          ],
          "name": "stdout"
        }
      ]
    },
    {
      "cell_type": "code",
      "metadata": {
        "id": "SM0U0rH9f6SO",
        "outputId": "38450e81-0bdd-45c8-fc4d-1c1f0c99db90",
        "colab": {
          "base_uri": "https://localhost:8080/"
        }
      },
      "source": [
        "%%time\n",
        "model = SGDClassifier(loss = 'log', penalty ='l2', random_state = random_state)\n",
        "kf = KFold(n_splits=5)\n",
        "mysplit = kf.split(X_all)\n",
        "cross_val2 = cross_val_score(model, X_all, y, cv=mysplit, scoring = 'roc_auc')\n",
        "print('ROC-AUC:',np.mean(cross_val2))"
      ],
      "execution_count": 30,
      "outputs": [
        {
          "output_type": "stream",
          "text": [
            "ROC-AUC: 0.8986026938519884\n",
            "CPU times: user 990 ms, sys: 372 ms, total: 1.36 s\n",
            "Wall time: 918 ms\n"
          ],
          "name": "stdout"
        }
      ]
    },
    {
      "cell_type": "code",
      "metadata": {
        "id": "OyfpJK_mf6Y0",
        "outputId": "b7436039-8723-4a6c-8af2-78485791ad51",
        "colab": {
          "base_uri": "https://localhost:8080/"
        }
      },
      "source": [
        "%%time\n",
        "model = RandomForestClassifier(n_estimators=41, max_features= 'auto', random_state = random_state)\n",
        "kf = KFold(n_splits=5)\n",
        "mysplit = kf.split(X_all)\n",
        "cross_val3 = cross_val_score(model, X_all, y, cv=mysplit, scoring = 'roc_auc')\n",
        "print('ROC-AUC:',np.mean(cross_val3))"
      ],
      "execution_count": 39,
      "outputs": [
        {
          "output_type": "stream",
          "text": [
            "ROC-AUC: 0.8907884437690635\n",
            "CPU times: user 3.21 s, sys: 6.93 ms, total: 3.22 s\n",
            "Wall time: 3.22 s\n"
          ],
          "name": "stdout"
        }
      ]
    },
    {
      "cell_type": "markdown",
      "metadata": {
        "id": "SxJDQ52xYkr6"
      },
      "source": [
        "Отличается ли теперь наилучший классификатор от наилучшего в предыдущем пункте?\n",
        "\n",
        "Да, лучшее качество теперь у SGDClassifier"
      ]
    },
    {
      "cell_type": "markdown",
      "metadata": {
        "id": "D56uVY-wYkr7"
      },
      "source": [
        "## Смешивание моделей\n",
        "\n",
        "Во всех предыдущих пунктах мы получили много сильных моделей, которые могут быть достаточно разными по своей природе (например, метод ближайших соседей и случайный лес). Часто на практике оказывается возможным увеличить качество предсказани путем смешивания подобных разных моделей. Давайте посмотрим, действительно ли это дает прирост в качестве.\n",
        "\n",
        "Выберете из построенных моделей двух предыдущих пунктов две, которые дали наибольшее начество на кросс-валидации (обозначим их $clf_1$ и $clf_2$). Далее постройте новый классификатор, ответ которого на некотором объекте $x$ будет выглядеть следующим образом:\n",
        "\n",
        "$$result(x) = clf_1(x) * \\alpha + clf_2(x) * (1 - \\alpha)$$\n",
        "\n",
        "где $\\alpha$ — гиперпараметр нового классификатора.\n",
        "\n",
        "**(1 балл)** Подберите по сетке от 0 до 1 $\\alpha$ для этого классификатора с помощью 5-Fold CV и постройте график качества в зависимости от $\\alpha$ (аналогичный графику в разделе \"Обучение классификаторов и оценка качества\"). Дал ли этот подход прирост к качеству по сравнению с моделями ранее?"
      ]
    },
    {
      "cell_type": "code",
      "metadata": {
        "id": "T9esb88dG-Vw"
      },
      "source": [
        "#не будем брать kNN, так как она слишком долго работает(при этом качество в ансамбле не самое лучшее из возможных)\n",
        "clf1 = RandomForestClassifier(n_estimators=41, max_features= 'auto', random_state = random_state)\n",
        "clf2 = SGDClassifier(loss = 'log', penalty ='l2', random_state = random_state)\n",
        "kf = KFold(n_splits=5)\n",
        "mysplit = kf.split(X_all)\n",
        "model = VotingClassifier(estimators=[('KNN', clf1), ('SGD', clf2)], voting='soft')"
      ],
      "execution_count": 48,
      "outputs": []
    },
    {
      "cell_type": "code",
      "metadata": {
        "id": "-VGsMfLVYkr7",
        "outputId": "932d9a40-99bc-421a-8bf2-9aa0e875ad6a",
        "colab": {
          "base_uri": "https://localhost:8080/",
          "height": 366
        }
      },
      "source": [
        "%%time\n",
        "param = {'weights':[[i, 1-i] for i in np.arange(0,1,0.1)]}\n",
        "search = GridSearchCV(model, param, cv=mysplit, scoring='roc_auc')\n",
        "search.fit(X_all,y)\n",
        "plt.plot(np.arange(0,1,0.1), search.cv_results_['mean_test_score'])\n",
        "plt.ylabel('ROC-AUC')\n",
        "plt.xlabel('alpha')\n",
        "plt.title('{}'.format(str(model).split('(')[0])) \n",
        "plt.fill_between(np.arange(0,1,0.1), search.cv_results_['mean_test_score'] + search.cv_results_['std_test_score'],\n",
        "                 search.cv_results_['mean_test_score'] - search.cv_results_['std_test_score'], alpha =0.4)\n",
        "plt.show()\n",
        "print(\"Best alpha = {}\".format(search.best_params_.get('weights')))\n",
        "print('Best AUC: {}'.format(max(search.cv_results_['mean_test_score'])))"
      ],
      "execution_count": 49,
      "outputs": [
        {
          "output_type": "display_data",
          "data": {
            "image/png": "[encoded data removed]",
            "text/plain": [
              "<Figure size 432x288 with 1 Axes>"
            ]
          },
          "metadata": {
            "tags": [],
            "needs_background": "light"
          }
        },
        {
          "output_type": "stream",
          "text": [
            "Best alpha = [0.4, 0.6]\n",
            "Best AUC: 0.9037519735047453\n",
            "CPU times: user 42.3 s, sys: 4.85 s, total: 47.2 s\n",
            "Wall time: 41.5 s\n"
          ],
          "name": "stdout"
        }
      ]
    },
    {
      "cell_type": "code",
      "metadata": {
        "id": "vQRKOCBbZ3LO",
        "outputId": "b8c8aa9a-b071-416a-a53f-fc87c85d53e1",
        "colab": {
          "base_uri": "https://localhost:8080/"
        }
      },
      "source": [
        "model = VotingClassifier(estimators=[('KNN', clf1), ('SGD', clf2)], voting='soft', weights = [0.4,0.6])\n",
        "kf = KFold(n_splits=5)\n",
        "mysplit = kf.split(X_all)\n",
        "cross_val4 = cross_val_score(model, X_all, y, cv=mysplit, scoring = 'roc_auc')\n",
        "print('ROC-AUC:',np.mean(cross_val4))"
      ],
      "execution_count": 50,
      "outputs": [
        {
          "output_type": "stream",
          "text": [
            "ROC-AUC: 0.9037519735047453\n"
          ],
          "name": "stdout"
        }
      ]
    },
    {
      "cell_type": "markdown",
      "metadata": {
        "id": "A5n7CZPAYi4N"
      },
      "source": [
        "Действительно получили прирост по качеству. ROC-AUC впервые больше 0.9!"
      ]
    },
    {
      "cell_type": "markdown",
      "metadata": {
        "id": "EmBIZoCXYkr-"
      },
      "source": [
        "## Сравнение построенных моделей\n",
        "\n",
        "![](http://cdn.shopify.com/s/files/1/0870/1066/files/compare_e8b89647-3cb6-4871-a976-2e36e5987773.png?1750043340268621065)\n",
        "\n",
        "После того как было построено много моделей хотелось бы сравнить их между собой. Для этого можно построить \"ящик с усами\" (диаграму размаха). Для этого можно воспользоваться библиотекой [matplotlib](https://matplotlib.org/3.1.0/api/_as_gen/matplotlib.pyplot.boxplot.html) или [seaborn](https://seaborn.pydata.org/generated/seaborn.boxplot.html).\n",
        "\n",
        "**(1 балл)** Для каждого типа классификатора (kNN, DecisionTree, RandomForest, SGD classifier), а так же смешанной модели выберете тот, которых давал наилучшее качество на кросс-валидации и постройте диаграмму размаха (все классификаторы должны быть изображены на одном графике).\n",
        " \n",
        "Сделайте общие итоговые выводы о классификаторах с точки зрения их работы с признаками и сложности самой модели (какие гиперпараметры есть у модели, сильно ли изменение значения гиперпараметра влияет на качество модели)."
      ]
    },
    {
      "cell_type": "code",
      "metadata": {
        "id": "Aj3CJgLzYkr-",
        "outputId": "a6d4b10d-d177-4d17-a292-fd0ebf4664ab",
        "colab": {
          "base_uri": "https://localhost:8080/",
          "height": 281
        }
      },
      "source": [
        "plt.boxplot([cross_val, cross_val1, cross_val2, cross_val3, cross_val4], labels = ['kNN', 'DecisionTree', 'SGD', 'RandomForest', 'Ensemble' ],patch_artist=True)\n",
        "plt.ylabel('ROC-AUC')\n",
        "plt.title('Boxplot for models') \n",
        "plt.show()"
      ],
      "execution_count": 51,
      "outputs": [
        {
          "output_type": "display_data",
          "data": {
            "image/png": "[encoded data removed]",
            "text/plain": [
              "<Figure size 432x288 with 1 Axes>"
            ]
          },
          "metadata": {
            "tags": [],
            "needs_background": "light"
          }
        }
      ]
    },
    {
      "cell_type": "markdown",
      "metadata": {
        "id": "WrPky9y4eg-z"
      },
      "source": [
        "**Итоги**: \n",
        "\n",
        "1.   *Decision Tree* - несложная, а самое главное быстро работающая модель, для которой масштабирование признаков не нужно, однако очень важно подобрать верную глубину дерева, при которой достигается максимальное качество на кросс-валидации, так как и при слишком маленькой, и при слишком большой глубине качество будет значительно хуже. На наших данных показала самый слабый результат, однако отставание в качестве не такое большое\n",
        "2.   *kNN* - очень высокая зависимость модели от масштабирования признаков, при немасштабированных признаках показывает низкое качество с огромным разбросом на кросс-валидации. После масштабирования большинство проблем решается и качество стабилизируется (будет незначительное ухудшение при очень большом числе соседей),  однако очень медленно работает при увеличении числа ближайших соседей. Таким образом, число соседей будет важным гиперпармаетром, в то время как метрика измерения расстояния до ближайшего соседа не так приципиальна. На наших данных была не лучшей, но и не худшей моделью. \n",
        "\n",
        "3. *Random Forest* - берет за основу нескоторое количество деревьев, с увеличением числа которых повышается качество, но также растет и вычислительная сложность, поэтому рационально выбирать число деревьев, при котором качество стабилизировалось. Выбор между max_features почти не важен, очень слабо влияет на качество. В целом, превосходит обычное решающее дерево, но в данной задаче не является самой лучшей моделью\n",
        "\n",
        "4. *SGD* - за этой моделью кроется целый класс линейных моделей, который оптимизируются с помощью метода градиентного спуска. Здесь выбор гиперпараметра крайне важен, поскольку мы получаем абсолютно разные модели в зависимости от выбора функции потерь. Здесь лучшее качество удалось получить с помощью лог-лосса с l2-регуляризацией. Модель показала самый хороший результат среди простых моделей, однако уступила ансамблю.\n",
        "\n",
        "5. *SGD + Random Forest* - абсолютный победитель с ROC-AUC > 0.9, ансамблевая модель на основе VotingClassifier. Подбор гиперпараметра весов в этой модели - принципиально важная задача, поскольку иначе можно получить качество даже хуже, чем при использовании одной из этих моделей отдельно. \n"
      ]
    }
  ]
}